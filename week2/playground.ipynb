{
 "cells": [
  {
   "cell_type": "markdown",
   "metadata": {},
   "source": [
    "# Playground\n",
    "Much like my Notepad, this playground is a place for me to test things."
   ]
  },
  {
   "cell_type": "markdown",
   "metadata": {},
   "source": [
    "# Level 1"
   ]
  },
  {
   "cell_type": "code",
   "execution_count": 1,
   "metadata": {},
   "outputs": [],
   "source": [
    "import pandas as pd\n",
    "import numpy as np"
   ]
  },
  {
   "cell_type": "code",
   "execution_count": 38,
   "metadata": {},
   "outputs": [],
   "source": [
    "labeled_products = pd.read_table('/workspace/datasets/fasttext/shuffled_labeled_products.txt',\n",
    "    header = None)"
   ]
  },
  {
   "cell_type": "code",
   "execution_count": 3,
   "metadata": {},
   "outputs": [
    {
     "data": {
      "text/html": [
       "<div>\n",
       "<style scoped>\n",
       "    .dataframe tbody tr th:only-of-type {\n",
       "        vertical-align: middle;\n",
       "    }\n",
       "\n",
       "    .dataframe tbody tr th {\n",
       "        vertical-align: top;\n",
       "    }\n",
       "\n",
       "    .dataframe thead th {\n",
       "        text-align: right;\n",
       "    }\n",
       "</style>\n",
       "<table border=\"1\" class=\"dataframe\">\n",
       "  <thead>\n",
       "    <tr style=\"text-align: right;\">\n",
       "      <th></th>\n",
       "      <th>0</th>\n",
       "    </tr>\n",
       "  </thead>\n",
       "  <tbody>\n",
       "    <tr>\n",
       "      <th>0</th>\n",
       "      <td>__label__abcat0807005 HP - 15 Inkjet Cartridge...</td>\n",
       "    </tr>\n",
       "    <tr>\n",
       "      <th>1</th>\n",
       "      <td>__label__abcat0912020 Aroma - 8-Cup Rice Cooke...</td>\n",
       "    </tr>\n",
       "    <tr>\n",
       "      <th>2</th>\n",
       "      <td>__label__abcat0916013 Smart Choice - HEPA Filt...</td>\n",
       "    </tr>\n",
       "    <tr>\n",
       "      <th>3</th>\n",
       "      <td>__label__abcat0410003 Lowepro - Ridge 30 Pouch...</td>\n",
       "    </tr>\n",
       "    <tr>\n",
       "      <th>4</th>\n",
       "      <td>__label__abcat0201009 8GB iPod touch® - Black,...</td>\n",
       "    </tr>\n",
       "  </tbody>\n",
       "</table>\n",
       "</div>"
      ],
      "text/plain": [
       "                                                   0\n",
       "0  __label__abcat0807005 HP - 15 Inkjet Cartridge...\n",
       "1  __label__abcat0912020 Aroma - 8-Cup Rice Cooke...\n",
       "2  __label__abcat0916013 Smart Choice - HEPA Filt...\n",
       "3  __label__abcat0410003 Lowepro - Ridge 30 Pouch...\n",
       "4  __label__abcat0201009 8GB iPod touch® - Black,..."
      ]
     },
     "execution_count": 3,
     "metadata": {},
     "output_type": "execute_result"
    }
   ],
   "source": [
    "labeled_products.head()"
   ]
  },
  {
   "cell_type": "code",
   "execution_count": 4,
   "metadata": {},
   "outputs": [
    {
     "data": {
      "text/plain": [
       "(115503, 1)"
      ]
     },
     "execution_count": 4,
     "metadata": {},
     "output_type": "execute_result"
    }
   ],
   "source": [
    "labeled_products.shape"
   ]
  },
  {
   "cell_type": "markdown",
   "metadata": {},
   "source": [
    "Doesn't look that shuffled to me..."
   ]
  },
  {
   "cell_type": "code",
   "execution_count": 5,
   "metadata": {},
   "outputs": [
    {
     "data": {
      "text/html": [
       "<div>\n",
       "<style scoped>\n",
       "    .dataframe tbody tr th:only-of-type {\n",
       "        vertical-align: middle;\n",
       "    }\n",
       "\n",
       "    .dataframe tbody tr th {\n",
       "        vertical-align: top;\n",
       "    }\n",
       "\n",
       "    .dataframe thead th {\n",
       "        text-align: right;\n",
       "    }\n",
       "</style>\n",
       "<table border=\"1\" class=\"dataframe\">\n",
       "  <thead>\n",
       "    <tr style=\"text-align: right;\">\n",
       "      <th></th>\n",
       "      <th>0</th>\n",
       "    </tr>\n",
       "  </thead>\n",
       "  <tbody>\n",
       "    <tr>\n",
       "      <th>0</th>\n",
       "      <td>__label__abcat0811004 Lenmar - Lithium-Ion Bat...</td>\n",
       "    </tr>\n",
       "    <tr>\n",
       "      <th>1</th>\n",
       "      <td>__label__pcmcat180400050006 Nikon D90 12.3MP D...</td>\n",
       "    </tr>\n",
       "    <tr>\n",
       "      <th>2</th>\n",
       "      <td>__label__pcmcat164200050013 Gateway - 10.1\" Ne...</td>\n",
       "    </tr>\n",
       "    <tr>\n",
       "      <th>3</th>\n",
       "      <td>__label__pcmcat226200050010 Tribeca - Oklahoma...</td>\n",
       "    </tr>\n",
       "    <tr>\n",
       "      <th>4</th>\n",
       "      <td>__label__abcat0707003 Little Red Riding Hood's...</td>\n",
       "    </tr>\n",
       "  </tbody>\n",
       "</table>\n",
       "</div>"
      ],
      "text/plain": [
       "                                                   0\n",
       "0  __label__abcat0811004 Lenmar - Lithium-Ion Bat...\n",
       "1  __label__pcmcat180400050006 Nikon D90 12.3MP D...\n",
       "2  __label__pcmcat164200050013 Gateway - 10.1\" Ne...\n",
       "3  __label__pcmcat226200050010 Tribeca - Oklahoma...\n",
       "4  __label__abcat0707003 Little Red Riding Hood's..."
      ]
     },
     "execution_count": 5,
     "metadata": {},
     "output_type": "execute_result"
    }
   ],
   "source": [
    "labeled_products = labeled_products.sample(frac = 1).reset_index(drop = True)\n",
    "labeled_products.head()"
   ]
  },
  {
   "cell_type": "code",
   "execution_count": 7,
   "metadata": {},
   "outputs": [
    {
     "data": {
      "text/plain": [
       "(10000, 1)"
      ]
     },
     "execution_count": 7,
     "metadata": {},
     "output_type": "execute_result"
    }
   ],
   "source": [
    "training_data = labeled_products.loc[0:9999]\n",
    "training_data.shape"
   ]
  },
  {
   "cell_type": "code",
   "execution_count": 8,
   "metadata": {},
   "outputs": [
    {
     "data": {
      "text/html": [
       "<div>\n",
       "<style scoped>\n",
       "    .dataframe tbody tr th:only-of-type {\n",
       "        vertical-align: middle;\n",
       "    }\n",
       "\n",
       "    .dataframe tbody tr th {\n",
       "        vertical-align: top;\n",
       "    }\n",
       "\n",
       "    .dataframe thead th {\n",
       "        text-align: right;\n",
       "    }\n",
       "</style>\n",
       "<table border=\"1\" class=\"dataframe\">\n",
       "  <thead>\n",
       "    <tr style=\"text-align: right;\">\n",
       "      <th></th>\n",
       "      <th>0</th>\n",
       "    </tr>\n",
       "  </thead>\n",
       "  <tbody>\n",
       "    <tr>\n",
       "      <th>0</th>\n",
       "      <td>__label__abcat0811004 Lenmar - Lithium-Ion Bat...</td>\n",
       "    </tr>\n",
       "    <tr>\n",
       "      <th>1</th>\n",
       "      <td>__label__pcmcat180400050006 Nikon D90 12.3MP D...</td>\n",
       "    </tr>\n",
       "    <tr>\n",
       "      <th>2</th>\n",
       "      <td>__label__pcmcat164200050013 Gateway - 10.1\" Ne...</td>\n",
       "    </tr>\n",
       "    <tr>\n",
       "      <th>3</th>\n",
       "      <td>__label__pcmcat226200050010 Tribeca - Oklahoma...</td>\n",
       "    </tr>\n",
       "    <tr>\n",
       "      <th>4</th>\n",
       "      <td>__label__abcat0707003 Little Red Riding Hood's...</td>\n",
       "    </tr>\n",
       "  </tbody>\n",
       "</table>\n",
       "</div>"
      ],
      "text/plain": [
       "                                                   0\n",
       "0  __label__abcat0811004 Lenmar - Lithium-Ion Bat...\n",
       "1  __label__pcmcat180400050006 Nikon D90 12.3MP D...\n",
       "2  __label__pcmcat164200050013 Gateway - 10.1\" Ne...\n",
       "3  __label__pcmcat226200050010 Tribeca - Oklahoma...\n",
       "4  __label__abcat0707003 Little Red Riding Hood's..."
      ]
     },
     "execution_count": 8,
     "metadata": {},
     "output_type": "execute_result"
    }
   ],
   "source": [
    "training_data.head()"
   ]
  },
  {
   "cell_type": "code",
   "execution_count": 9,
   "metadata": {},
   "outputs": [],
   "source": [
    "training_data.to_csv('/workspace/datasets/fasttext/training_data.txt', header = None, index = None, mode = 'a')\n"
   ]
  },
  {
   "cell_type": "code",
   "execution_count": 10,
   "metadata": {},
   "outputs": [
    {
     "data": {
      "text/plain": [
       "(10000, 1)"
      ]
     },
     "execution_count": 10,
     "metadata": {},
     "output_type": "execute_result"
    }
   ],
   "source": [
    "test_data = labeled_products.tail(10000)\n",
    "test_data.shape"
   ]
  },
  {
   "cell_type": "code",
   "execution_count": 17,
   "metadata": {},
   "outputs": [],
   "source": [
    "test_data.to_csv('/workspace/datasets/fasttext/test_data.txt', header = None, index = None, mode = 'a')\n"
   ]
  },
  {
   "cell_type": "markdown",
   "metadata": {},
   "source": [
    "## Train model!"
   ]
  },
  {
   "cell_type": "code",
   "execution_count": 12,
   "metadata": {},
   "outputs": [],
   "source": [
    "import fasttext"
   ]
  },
  {
   "cell_type": "code",
   "execution_count": 20,
   "metadata": {},
   "outputs": [
    {
     "name": "stderr",
     "output_type": "stream",
     "text": [
      "Read 0M words\n",
      "Number of words:  11719\n",
      "Number of labels: 1280\n",
      "Progress: 100.0% words/sec/thread:    5921 lr:  0.000000 avg.loss: 13.500198 ETA:   0h 0m 0s\n"
     ]
    }
   ],
   "source": [
    "# Train model\n",
    "product_classifier = fasttext.train_supervised(input = '/workspace/datasets/fasttext/training_data.txt')"
   ]
  },
  {
   "cell_type": "code",
   "execution_count": 21,
   "metadata": {},
   "outputs": [],
   "source": [
    "product_classifier.save_model(\"product_classifier\")"
   ]
  },
  {
   "cell_type": "markdown",
   "metadata": {},
   "source": [
    "### @1"
   ]
  },
  {
   "cell_type": "code",
   "execution_count": 22,
   "metadata": {},
   "outputs": [
    {
     "data": {
      "text/plain": [
       "(7737, 0.06759725991986558, 0.06759725991986558)"
      ]
     },
     "execution_count": 22,
     "metadata": {},
     "output_type": "execute_result"
    }
   ],
   "source": [
    "product_classifier.test('/workspace/datasets/fasttext/test_data.txt')"
   ]
  },
  {
   "cell_type": "markdown",
   "metadata": {},
   "source": [
    "### @5"
   ]
  },
  {
   "cell_type": "code",
   "execution_count": 23,
   "metadata": {},
   "outputs": [
    {
     "data": {
      "text/plain": [
       "(7737, 0.030528628667442163, 0.1526431433372108)"
      ]
     },
     "execution_count": 23,
     "metadata": {},
     "output_type": "execute_result"
    }
   ],
   "source": [
    "product_classifier.test('/workspace/datasets/fasttext/test_data.txt', k = 5)"
   ]
  },
  {
   "cell_type": "markdown",
   "metadata": {},
   "source": [
    "### @10"
   ]
  },
  {
   "cell_type": "code",
   "execution_count": 24,
   "metadata": {},
   "outputs": [
    {
     "data": {
      "text/plain": [
       "(7737, 0.018779888845805868, 0.18779888845805867)"
      ]
     },
     "execution_count": 24,
     "metadata": {},
     "output_type": "execute_result"
    }
   ],
   "source": [
    "product_classifier.test('/workspace/datasets/fasttext/test_data.txt', k = 10)"
   ]
  },
  {
   "cell_type": "markdown",
   "metadata": {},
   "source": [
    "## Fine tunning - epoch = 25 and lr = 1.0"
   ]
  },
  {
   "cell_type": "code",
   "execution_count": 25,
   "metadata": {},
   "outputs": [
    {
     "name": "stderr",
     "output_type": "stream",
     "text": [
      "Read 0M words\n",
      "Number of words:  11719\n",
      "Number of labels: 1280\n",
      "Progress: 100.0% words/sec/thread:    8141 lr:  0.000000 avg.loss:  1.108078 ETA:   0h 0m 0s\n"
     ]
    }
   ],
   "source": [
    "model = fasttext.train_supervised(input = '/workspace/datasets/fasttext/training_data.txt', \n",
    "                                  lr = 1, \n",
    "                                  epoch = 25)"
   ]
  },
  {
   "cell_type": "code",
   "execution_count": 26,
   "metadata": {},
   "outputs": [
    {
     "data": {
      "text/plain": [
       "(7737, 0.5929947007884193, 0.5929947007884193)"
      ]
     },
     "execution_count": 26,
     "metadata": {},
     "output_type": "execute_result"
    }
   ],
   "source": [
    "model.test('/workspace/datasets/fasttext/test_data.txt')"
   ]
  },
  {
   "cell_type": "markdown",
   "metadata": {},
   "source": [
    "## Fine tunning - bigrams"
   ]
  },
  {
   "cell_type": "code",
   "execution_count": 27,
   "metadata": {},
   "outputs": [
    {
     "name": "stderr",
     "output_type": "stream",
     "text": [
      "Read 0M words\n",
      "Number of words:  11719\n",
      "Number of labels: 1280\n",
      "Progress: 100.0% words/sec/thread:   15572 lr:  0.000000 avg.loss:  1.446491 ETA:   0h 0m 0s\n"
     ]
    }
   ],
   "source": [
    "model = fasttext.train_supervised(input = '/workspace/datasets/fasttext/training_data.txt', \n",
    "                                  lr = 1.0, \n",
    "                                  epoch = 25,\n",
    "                                  wordNgrams = 2)"
   ]
  },
  {
   "cell_type": "code",
   "execution_count": 28,
   "metadata": {},
   "outputs": [
    {
     "data": {
      "text/plain": [
       "(7737, 0.5857567532635388, 0.5857567532635388)"
      ]
     },
     "execution_count": 28,
     "metadata": {},
     "output_type": "execute_result"
    }
   ],
   "source": [
    "model.test('/workspace/datasets/fasttext/test_data.txt')"
   ]
  },
  {
   "cell_type": "markdown",
   "metadata": {},
   "source": [
    "## Using normalized data"
   ]
  },
  {
   "cell_type": "markdown",
   "metadata": {},
   "source": [
    "`cat /workspace/datasets/fasttext/training_lite.txt |sed -e \"s/\\([.\\!?,'/()]\\)/ \\1 /g\" | tr \"[:upper:]\" \"[:lower:]\" | sed \"s/[^[:alnum:]_]/ /g\" | tr -s ' ' > /workspace/datasets/fasttext/normalized_training_lite.txt`"
   ]
  },
  {
   "cell_type": "code",
   "execution_count": 31,
   "metadata": {},
   "outputs": [
    {
     "name": "stderr",
     "output_type": "stream",
     "text": [
      "Read 0M words\n",
      "Number of words:  8703\n",
      "Number of labels: 1371\n",
      "Progress: 100.0% words/sec/thread:   12713 lr:  0.000000 avg.loss:  0.910726 ETA:   0h 0m 0s\n"
     ]
    }
   ],
   "source": [
    "model = fasttext.train_supervised(input = '/workspace/datasets/fasttext/normalized_training_lite.txt', \n",
    "                                  lr = 1, \n",
    "                                  epoch = 25)"
   ]
  },
  {
   "cell_type": "code",
   "execution_count": 32,
   "metadata": {},
   "outputs": [
    {
     "data": {
      "text/plain": [
       "(9683, 0.6198492202829702, 0.6198492202829702)"
      ]
     },
     "execution_count": 32,
     "metadata": {},
     "output_type": "execute_result"
    }
   ],
   "source": [
    "model.test('/workspace/datasets/fasttext/normalized_test_lite.txt')"
   ]
  },
  {
   "cell_type": "markdown",
   "metadata": {},
   "source": [
    "## Filtering out for at least N = 500 products"
   ]
  },
  {
   "cell_type": "code",
   "execution_count": 39,
   "metadata": {},
   "outputs": [
    {
     "data": {
      "text/html": [
       "<div>\n",
       "<style scoped>\n",
       "    .dataframe tbody tr th:only-of-type {\n",
       "        vertical-align: middle;\n",
       "    }\n",
       "\n",
       "    .dataframe tbody tr th {\n",
       "        vertical-align: top;\n",
       "    }\n",
       "\n",
       "    .dataframe thead th {\n",
       "        text-align: right;\n",
       "    }\n",
       "</style>\n",
       "<table border=\"1\" class=\"dataframe\">\n",
       "  <thead>\n",
       "    <tr style=\"text-align: right;\">\n",
       "      <th></th>\n",
       "      <th>0</th>\n",
       "    </tr>\n",
       "  </thead>\n",
       "  <tbody>\n",
       "    <tr>\n",
       "      <th>0</th>\n",
       "      <td>__label__abcat0807005 HP - 15 Inkjet Cartridge...</td>\n",
       "    </tr>\n",
       "    <tr>\n",
       "      <th>1</th>\n",
       "      <td>__label__abcat0912020 Aroma - 8-Cup Rice Cooke...</td>\n",
       "    </tr>\n",
       "    <tr>\n",
       "      <th>2</th>\n",
       "      <td>__label__abcat0916013 Smart Choice - HEPA Filt...</td>\n",
       "    </tr>\n",
       "    <tr>\n",
       "      <th>3</th>\n",
       "      <td>__label__abcat0410003 Lowepro - Ridge 30 Pouch...</td>\n",
       "    </tr>\n",
       "    <tr>\n",
       "      <th>4</th>\n",
       "      <td>__label__abcat0201009 8GB iPod touch® - Black,...</td>\n",
       "    </tr>\n",
       "  </tbody>\n",
       "</table>\n",
       "</div>"
      ],
      "text/plain": [
       "                                                   0\n",
       "0  __label__abcat0807005 HP - 15 Inkjet Cartridge...\n",
       "1  __label__abcat0912020 Aroma - 8-Cup Rice Cooke...\n",
       "2  __label__abcat0916013 Smart Choice - HEPA Filt...\n",
       "3  __label__abcat0410003 Lowepro - Ridge 30 Pouch...\n",
       "4  __label__abcat0201009 8GB iPod touch® - Black,..."
      ]
     },
     "execution_count": 39,
     "metadata": {},
     "output_type": "execute_result"
    }
   ],
   "source": [
    "labeled_products.head()"
   ]
  },
  {
   "cell_type": "code",
   "execution_count": 93,
   "metadata": {},
   "outputs": [],
   "source": [
    "def create_pruned_labeled_products(df, min_products = 500):\n",
    "    labels = []\n",
    "    pruned_labeled_products = []\n",
    "    count_products = 0\n",
    "\n",
    "    print('Mapping labels')\n",
    "    for row in range(0, len(df)):\n",
    "        label = df[0][row].split()[0]\n",
    "        labels.append(label)\n",
    "        # product = df[0][row].split()[:1]\n",
    "    \n",
    "    labels = pd.Series(labels)\n",
    "    label_counts = labels.value_counts()\n",
    "    keep_labels = label_counts[label_counts >= min_products].index.tolist()\n",
    "\n",
    "    print('Found labels to keep!')\n",
    "\n",
    "    for row in range(0, len(df)):\n",
    "        if labels[row] in keep_labels:\n",
    "            pruned_labeled_products.append(df[0][row])\n",
    "        else:\n",
    "            pass\n",
    "    \n",
    "    pruned_labeled_products = pd.DataFrame(pruned_labeled_products)\n",
    "    pruned_labeled_products.to_csv('/workspace/datasets/fasttext/pruned_labeled_products.txt', header = None, index = None, mode = 'a')\n",
    "    print('Saved pruned_labeled_products.txt')\n",
    "\n",
    "    return pruned_labeled_products"
   ]
  },
  {
   "cell_type": "code",
   "execution_count": 94,
   "metadata": {},
   "outputs": [
    {
     "name": "stdout",
     "output_type": "stream",
     "text": [
      "Mapping labels\n",
      "Found labels to keep!\n",
      "Saved pruned_labeled_products.txt\n"
     ]
    }
   ],
   "source": [
    "plp = create_pruned_labeled_products(labeled_products)"
   ]
  },
  {
   "cell_type": "code",
   "execution_count": 95,
   "metadata": {},
   "outputs": [
    {
     "data": {
      "text/html": [
       "<div>\n",
       "<style scoped>\n",
       "    .dataframe tbody tr th:only-of-type {\n",
       "        vertical-align: middle;\n",
       "    }\n",
       "\n",
       "    .dataframe tbody tr th {\n",
       "        vertical-align: top;\n",
       "    }\n",
       "\n",
       "    .dataframe thead th {\n",
       "        text-align: right;\n",
       "    }\n",
       "</style>\n",
       "<table border=\"1\" class=\"dataframe\">\n",
       "  <thead>\n",
       "    <tr style=\"text-align: right;\">\n",
       "      <th></th>\n",
       "      <th>0</th>\n",
       "    </tr>\n",
       "  </thead>\n",
       "  <tbody>\n",
       "    <tr>\n",
       "      <th>0</th>\n",
       "      <td>__label__pcmcat165900050033 Metra - DIN Instal...</td>\n",
       "    </tr>\n",
       "    <tr>\n",
       "      <th>1</th>\n",
       "      <td>__label__abcat0106001 BDI - Mirage TV Stand fo...</td>\n",
       "    </tr>\n",
       "    <tr>\n",
       "      <th>2</th>\n",
       "      <td>__label__abcat0904001 LG - 35\" Built-In Electr...</td>\n",
       "    </tr>\n",
       "    <tr>\n",
       "      <th>3</th>\n",
       "      <td>__label__cat09000 Best Buy GC - $15 Birthday D...</td>\n",
       "    </tr>\n",
       "    <tr>\n",
       "      <th>4</th>\n",
       "      <td>__label__pcmcat227500050028 Nikon Coolpix L26 ...</td>\n",
       "    </tr>\n",
       "  </tbody>\n",
       "</table>\n",
       "</div>"
      ],
      "text/plain": [
       "                                                   0\n",
       "0  __label__pcmcat165900050033 Metra - DIN Instal...\n",
       "1  __label__abcat0106001 BDI - Mirage TV Stand fo...\n",
       "2  __label__abcat0904001 LG - 35\" Built-In Electr...\n",
       "3  __label__cat09000 Best Buy GC - $15 Birthday D...\n",
       "4  __label__pcmcat227500050028 Nikon Coolpix L26 ..."
      ]
     },
     "execution_count": 95,
     "metadata": {},
     "output_type": "execute_result"
    }
   ],
   "source": [
    "plp.head()"
   ]
  },
  {
   "cell_type": "code",
   "execution_count": 96,
   "metadata": {},
   "outputs": [
    {
     "data": {
      "text/plain": [
       "(28921, 1)"
      ]
     },
     "execution_count": 96,
     "metadata": {},
     "output_type": "execute_result"
    }
   ],
   "source": [
    "plp.shape"
   ]
  },
  {
   "cell_type": "markdown",
   "metadata": {},
   "source": [
    "## Shuffle and split this dataset!"
   ]
  },
  {
   "cell_type": "code",
   "execution_count": 97,
   "metadata": {},
   "outputs": [
    {
     "data": {
      "text/html": [
       "<div>\n",
       "<style scoped>\n",
       "    .dataframe tbody tr th:only-of-type {\n",
       "        vertical-align: middle;\n",
       "    }\n",
       "\n",
       "    .dataframe tbody tr th {\n",
       "        vertical-align: top;\n",
       "    }\n",
       "\n",
       "    .dataframe thead th {\n",
       "        text-align: right;\n",
       "    }\n",
       "</style>\n",
       "<table border=\"1\" class=\"dataframe\">\n",
       "  <thead>\n",
       "    <tr style=\"text-align: right;\">\n",
       "      <th></th>\n",
       "      <th>0</th>\n",
       "    </tr>\n",
       "  </thead>\n",
       "  <tbody>\n",
       "    <tr>\n",
       "      <th>0</th>\n",
       "      <td>__label__pcmcat151600050006 Michael Kelly - Pa...</td>\n",
       "    </tr>\n",
       "    <tr>\n",
       "      <th>1</th>\n",
       "      <td>__label__abcat0901005 GE - Profile 24.6 Cu. Ft...</td>\n",
       "    </tr>\n",
       "    <tr>\n",
       "      <th>2</th>\n",
       "      <td>__label__abcat0706002 Baseball Blast - Nintend...</td>\n",
       "    </tr>\n",
       "    <tr>\n",
       "      <th>3</th>\n",
       "      <td>__label__pcmcat144700050004 Jawbone - Bluetoot...</td>\n",
       "    </tr>\n",
       "    <tr>\n",
       "      <th>4</th>\n",
       "      <td>__label__pcmcat171900050029 OtterBox - Impact ...</td>\n",
       "    </tr>\n",
       "  </tbody>\n",
       "</table>\n",
       "</div>"
      ],
      "text/plain": [
       "                                                   0\n",
       "0  __label__pcmcat151600050006 Michael Kelly - Pa...\n",
       "1  __label__abcat0901005 GE - Profile 24.6 Cu. Ft...\n",
       "2  __label__abcat0706002 Baseball Blast - Nintend...\n",
       "3  __label__pcmcat144700050004 Jawbone - Bluetoot...\n",
       "4  __label__pcmcat171900050029 OtterBox - Impact ..."
      ]
     },
     "execution_count": 97,
     "metadata": {},
     "output_type": "execute_result"
    }
   ],
   "source": [
    "pruned_df = plp.sample(frac = 1).reset_index(drop = True)\n",
    "pruned_df.head()"
   ]
  },
  {
   "cell_type": "code",
   "execution_count": 98,
   "metadata": {},
   "outputs": [
    {
     "data": {
      "text/plain": [
       "(10000, 1)"
      ]
     },
     "execution_count": 98,
     "metadata": {},
     "output_type": "execute_result"
    }
   ],
   "source": [
    "pruned_training_data = pruned_df.loc[0:9999]\n",
    "pruned_training_data.shape"
   ]
  },
  {
   "cell_type": "code",
   "execution_count": 100,
   "metadata": {},
   "outputs": [],
   "source": [
    "pruned_training_data.to_csv('/workspace/datasets/fasttext/pruned_training_data.txt', header = None, index = None, mode = 'a')"
   ]
  },
  {
   "cell_type": "code",
   "execution_count": 101,
   "metadata": {},
   "outputs": [
    {
     "data": {
      "text/plain": [
       "(10000, 1)"
      ]
     },
     "execution_count": 101,
     "metadata": {},
     "output_type": "execute_result"
    }
   ],
   "source": [
    "pruned_test_data = pruned_df.tail(10000)\n",
    "pruned_test_data.shape"
   ]
  },
  {
   "cell_type": "code",
   "execution_count": 102,
   "metadata": {},
   "outputs": [],
   "source": [
    "pruned_test_data.to_csv('/workspace/datasets/fasttext/pruned_test_data.txt', header = None, index = None, mode = 'a')"
   ]
  },
  {
   "cell_type": "markdown",
   "metadata": {},
   "source": [
    "## Train model on pruned data"
   ]
  },
  {
   "cell_type": "code",
   "execution_count": 103,
   "metadata": {},
   "outputs": [
    {
     "name": "stderr",
     "output_type": "stream",
     "text": [
      "Read 0M words\n",
      "Number of words:  7020\n",
      "Number of labels: 31\n",
      "Progress: 100.0% words/sec/thread:  850783 lr:  0.000000 avg.loss:  0.054239 ETA:   0h 0m 0s\n"
     ]
    }
   ],
   "source": [
    "model = fasttext.train_supervised(input = '/workspace/datasets/fasttext/pruned_training_data.txt', \n",
    "                                  lr = 1, \n",
    "                                  epoch = 25)"
   ]
  },
  {
   "cell_type": "code",
   "execution_count": 104,
   "metadata": {},
   "outputs": [
    {
     "data": {
      "text/plain": [
       "(6541, 0.9550527442287112, 0.9550527442287112)"
      ]
     },
     "execution_count": 104,
     "metadata": {},
     "output_type": "execute_result"
    }
   ],
   "source": [
    "model.test('/workspace/datasets/fasttext/pruned_test_data.txt')"
   ]
  },
  {
   "cell_type": "markdown",
   "metadata": {},
   "source": [
    "# Level 2: Derive Synonyms from Content"
   ]
  },
  {
   "cell_type": "markdown",
   "metadata": {},
   "source": [
    "`cut -d' ' -f2- /workspace/datasets/fasttext/shuffled_labeled_products.txt > /workspace/datasets/fasttext/titles.txt` I can't believe this gets the category labels."
   ]
  },
  {
   "cell_type": "code",
   "execution_count": 107,
   "metadata": {},
   "outputs": [
    {
     "name": "stderr",
     "output_type": "stream",
     "text": [
      "Read 1M words\n",
      "Number of words:  10873\n",
      "Number of labels: 0\n",
      "Progress: 100.0% words/sec/thread:   55620 lr:  0.000000 avg.loss:  1.364058 ETA:   0h 0m 0s100.0% words/sec/thread:   55622 lr: -0.000002 avg.loss:  1.364058 ETA:   0h 0m 0s\n"
     ]
    }
   ],
   "source": [
    "model = fasttext.train_unsupervised(model = 'skipgram',\n",
    "                                    input = '/workspace/datasets/fasttext/titles.txt')\n",
    "model.save_model('/workspace/datasets/fasttext/title_model.bin')"
   ]
  },
  {
   "cell_type": "code",
   "execution_count": 109,
   "metadata": {},
   "outputs": [
    {
     "data": {
      "text/plain": [
       "[(0.8572229743003845, 'Saxophone'),\n",
       " (0.846019446849823, 'Telephone'),\n",
       " (0.8430326581001282, 'Speakerphone'),\n",
       " (0.8397766351699829, 'Microphone'),\n",
       " (0.814883828163147, 'Telephones'),\n",
       " (0.8052800297737122, 'Earphones'),\n",
       " (0.7911036014556885, 'Headphone'),\n",
       " (0.7814058065414429, 'GoPhone'),\n",
       " (0.7770469784736633, 'Ozone'),\n",
       " (0.7752405405044556, 'Phone')]"
      ]
     },
     "execution_count": 109,
     "metadata": {},
     "output_type": "execute_result"
    }
   ],
   "source": [
    "model.get_nearest_neighbors('iphone')"
   ]
  },
  {
   "cell_type": "code",
   "execution_count": 110,
   "metadata": {},
   "outputs": [
    {
     "data": {
      "text/plain": [
       "[(0.9494825005531311, 'iPhone®,'),\n",
       " (0.9345912933349609, 'iPhone®'),\n",
       " (0.8405899405479431, 'iPod®/iPhone'),\n",
       " (0.8238221406936646, 'iPod®/iPhone®'),\n",
       " (0.8042400479316711, '3GS'),\n",
       " (0.7997831702232361, '3GS,'),\n",
       " (0.79729163646698, '4S'),\n",
       " (0.7971472144126892, '3G/3GS'),\n",
       " (0.7886156439781189, '3G,'),\n",
       " (0.7885591387748718, '3G/3G')]"
      ]
     },
     "execution_count": 110,
     "metadata": {},
     "output_type": "execute_result"
    }
   ],
   "source": [
    "model.get_nearest_neighbors('iPhone')"
   ]
  },
  {
   "cell_type": "markdown",
   "metadata": {},
   "source": [
    "### Normalizing titles data\n",
    "`cat /workspace/datasets/fasttext/titles.txt | sed -e \"s/\\([.\\!?,'/()]\\)/ \\1 /g\" | tr \"[:upper:]\" \"[:lower:]\" | sed \"s/[^[:alnum:]]/ /g\" | tr -s ' ' > /workspace/datasets/fasttext/normalized_titles.txt`"
   ]
  },
  {
   "cell_type": "code",
   "execution_count": 111,
   "metadata": {},
   "outputs": [
    {
     "name": "stderr",
     "output_type": "stream",
     "text": [
      "Read 1M words\n",
      "Number of words:  8903\n",
      "Number of labels: 0\n",
      "Progress: 100.0% words/sec/thread:   20479 lr:  0.000000 avg.loss:  1.466515 ETA:   0h 0m 0s 30.1% words/sec/thread:   20762 lr:  0.034963 avg.loss:  1.959467 ETA:   0h 0m12s\n"
     ]
    }
   ],
   "source": [
    "model = fasttext.train_unsupervised(model = 'skipgram',\n",
    "                                    input = '/workspace/datasets/fasttext/normalized_titles.txt')"
   ]
  },
  {
   "cell_type": "code",
   "execution_count": 112,
   "metadata": {},
   "outputs": [
    {
     "data": {
      "text/plain": [
       "[(0.8656516671180725, '4s'),\n",
       " (0.7738166451454163, 'apple'),\n",
       " (0.7621972560882568, '3gs'),\n",
       " (0.7245116829872131, 'ifrogz'),\n",
       " (0.7202589511871338, 'fabshell'),\n",
       " (0.7189897298812866, 'ipod'),\n",
       " (0.7106965184211731, 'ipadÂ'),\n",
       " (0.7083972096443176, 'appleÂ'),\n",
       " (0.6999031901359558, 'ozone'),\n",
       " (0.6925870776176453, 'ipodÂ')]"
      ]
     },
     "execution_count": 112,
     "metadata": {},
     "output_type": "execute_result"
    }
   ],
   "source": [
    "model.get_nearest_neighbors('iphone')"
   ]
  },
  {
   "cell_type": "code",
   "execution_count": 113,
   "metadata": {},
   "outputs": [
    {
     "data": {
      "text/plain": [
       "[(0.9293962121009827, 'hone'),\n",
       " (0.8393517732620239, 'phone'),\n",
       " (0.8297415971755981, 'ozone'),\n",
       " (0.8249611854553223, 'gophone'),\n",
       " (0.7918494343757629, 'saxophone'),\n",
       " (0.7852948307991028, 'speakerphone'),\n",
       " (0.7640011310577393, 'jawbone'),\n",
       " (0.7615736126899719, 'iphone'),\n",
       " (0.7572123408317566, 'bone'),\n",
       " (0.7092849016189575, 'tecnozone')]"
      ]
     },
     "execution_count": 113,
     "metadata": {},
     "output_type": "execute_result"
    }
   ],
   "source": [
    "model.get_nearest_neighbors('iPhone')"
   ]
  },
  {
   "cell_type": "code",
   "execution_count": 114,
   "metadata": {},
   "outputs": [
    {
     "data": {
      "text/plain": [
       "[(0.9227175712585449, 'phone'),\n",
       " (0.9163171648979187, 'gophone'),\n",
       " (0.8423050045967102, 'speakerphone'),\n",
       " (0.8139309287071228, 'saxophone'),\n",
       " (0.8083683848381042, 'hone'),\n",
       " (0.7956296801567078, 'ozone'),\n",
       " (0.7944759726524353, 'telephone'),\n",
       " (0.783035933971405, 'iphone'),\n",
       " (0.755550742149353, 'earphones'),\n",
       " (0.7545182108879089, 'telephones')]"
      ]
     },
     "execution_count": 114,
     "metadata": {},
     "output_type": "execute_result"
    }
   ],
   "source": [
    "model.get_nearest_neighbors('Iphone')"
   ]
  },
  {
   "cell_type": "markdown",
   "metadata": {},
   "source": [
    "### Testing tokens"
   ]
  },
  {
   "cell_type": "markdown",
   "metadata": {},
   "source": [
    "#### Product types"
   ]
  },
  {
   "cell_type": "code",
   "execution_count": 115,
   "metadata": {},
   "outputs": [
    {
     "data": {
      "text/plain": [
       "[(0.9264744520187378, 'headphone'),\n",
       " (0.8950048685073853, 'earbud'),\n",
       " (0.8435399532318115, 'ear'),\n",
       " (0.8406202793121338, 'earphones'),\n",
       " (0.7602767944335938, 'earbuds'),\n",
       " (0.7437191009521484, 'bud'),\n",
       " (0.7251234650611877, 'yurbuds'),\n",
       " (0.719900369644165, 'microphones'),\n",
       " (0.7193188667297363, 'ears'),\n",
       " (0.7171502709388733, 'behind')]"
      ]
     },
     "execution_count": 115,
     "metadata": {},
     "output_type": "execute_result"
    }
   ],
   "source": [
    "model.get_nearest_neighbors('headphones')"
   ]
  },
  {
   "cell_type": "code",
   "execution_count": 116,
   "metadata": {},
   "outputs": [
    {
     "data": {
      "text/plain": [
       "[(0.7285926342010498, 'durabook'),\n",
       " (0.71401047706604, '156b'),\n",
       " (0.7086651921272278, 'laptops'),\n",
       " (0.6971361041069031, '17r'),\n",
       " (0.6968522667884827, '176'),\n",
       " (0.696539580821991, 'ultrabook'),\n",
       " (0.6933403611183167, 'i15'),\n",
       " (0.6920029520988464, '179'),\n",
       " (0.6864805221557617, 's5919'),\n",
       " (0.6858465671539307, 'notebook')]"
      ]
     },
     "execution_count": 116,
     "metadata": {},
     "output_type": "execute_result"
    }
   ],
   "source": [
    "model.get_nearest_neighbors('laptop')"
   ]
  },
  {
   "cell_type": "code",
   "execution_count": 117,
   "metadata": {},
   "outputs": [
    {
     "data": {
      "text/plain": [
       "[(0.9226808547973633, 'freezers'),\n",
       " (0.826248049736023, 'refrigerator'),\n",
       " (0.8076303005218506, 'refrigerators'),\n",
       " (0.7914842963218689, 'frost'),\n",
       " (0.7268251180648804, 'cu'),\n",
       " (0.722983181476593, 'satina'),\n",
       " (0.7148715853691101, 'mug'),\n",
       " (0.7123090624809265, 'side'),\n",
       " (0.7089095711708069, 'ft'),\n",
       " (0.7036294937133789, 'cleansteel')]"
      ]
     },
     "execution_count": 117,
     "metadata": {},
     "output_type": "execute_result"
    }
   ],
   "source": [
    "model.get_nearest_neighbors('freezer')"
   ]
  },
  {
   "cell_type": "markdown",
   "metadata": {},
   "source": [
    "#### Brands"
   ]
  },
  {
   "cell_type": "code",
   "execution_count": 118,
   "metadata": {},
   "outputs": [
    {
     "data": {
      "text/plain": [
       "[(0.9755204319953918, 'nintendogs'),\n",
       " (0.9111528992652893, 'ds'),\n",
       " (0.8851426243782043, 'wii'),\n",
       " (0.810907781124115, '3ds'),\n",
       " (0.7600410580635071, 'gamecube'),\n",
       " (0.7530352473258972, 'wwii'),\n",
       " (0.7354763150215149, 'rabbids'),\n",
       " (0.730229377746582, 'ninjas'),\n",
       " (0.7279669642448425, 'psp'),\n",
       " (0.7278790473937988, 'luigi')]"
      ]
     },
     "execution_count": 118,
     "metadata": {},
     "output_type": "execute_result"
    }
   ],
   "source": [
    "model.get_nearest_neighbors('nintendo')"
   ]
  },
  {
   "cell_type": "code",
   "execution_count": 119,
   "metadata": {},
   "outputs": [
    {
     "data": {
      "text/plain": [
       "[(0.8759189248085022, 'whirl'),\n",
       " (0.8506542444229126, 'biscuit'),\n",
       " (0.8235144019126892, 'frigidaire'),\n",
       " (0.8149738311767578, 'maytag'),\n",
       " (0.8135016560554504, 'bisque'),\n",
       " (0.7610523700714111, 'nautilus'),\n",
       " (0.7508520483970642, 'cleansteel'),\n",
       " (0.7477498054504395, 'gallery'),\n",
       " (0.7414782047271729, 'mediterranean'),\n",
       " (0.7263631820678711, 'bosch')]"
      ]
     },
     "execution_count": 119,
     "metadata": {},
     "output_type": "execute_result"
    }
   ],
   "source": [
    "model.get_nearest_neighbors('whirlpool')"
   ]
  },
  {
   "cell_type": "code",
   "execution_count": 120,
   "metadata": {},
   "outputs": [
    {
     "data": {
      "text/plain": [
       "[(0.8842921257019043, 'easyshare'),\n",
       " (0.8162667155265808, 'm863'),\n",
       " (0.7873838543891907, 'm763'),\n",
       " (0.7750740647315979, 'm341'),\n",
       " (0.7745869159698486, 'm893'),\n",
       " (0.7730166912078857, 'm1063'),\n",
       " (0.7658917903900146, 'c813'),\n",
       " (0.7515822052955627, 'm381'),\n",
       " (0.7489995956420898, 'm340'),\n",
       " (0.72740238904953, 'playtouch')]"
      ]
     },
     "execution_count": 120,
     "metadata": {},
     "output_type": "execute_result"
    }
   ],
   "source": [
    "model.get_nearest_neighbors('kodak')"
   ]
  },
  {
   "cell_type": "markdown",
   "metadata": {},
   "source": [
    "### Models"
   ]
  },
  {
   "cell_type": "code",
   "execution_count": 121,
   "metadata": {},
   "outputs": [
    {
     "data": {
      "text/plain": [
       "[(0.8771463632583618, 'ps3'),\n",
       " (0.8322136998176575, '2k5'),\n",
       " (0.8280540704727173, '2k3'),\n",
       " (0.8255287408828735, '2k7'),\n",
       " (0.8206874132156372, '2k8'),\n",
       " (0.8190405964851379, '2k6'),\n",
       " (0.8187625408172607, '2k9'),\n",
       " (0.8139417171478271, '2k12'),\n",
       " (0.8130795955657959, 'psp'),\n",
       " (0.8069602251052856, 'Â')]"
      ]
     },
     "execution_count": 121,
     "metadata": {},
     "output_type": "execute_result"
    }
   ],
   "source": [
    "model.get_nearest_neighbors('ps2')"
   ]
  },
  {
   "cell_type": "code",
   "execution_count": 122,
   "metadata": {},
   "outputs": [
    {
     "data": {
      "text/plain": [
       "[(0.8850070834159851, 'a855'),\n",
       " (0.8770463466644287, 'krzr'),\n",
       " (0.8685644865036011, 'e71'),\n",
       " (0.8587075471878052, 'i90c'),\n",
       " (0.8577662706375122, 'i60c'),\n",
       " (0.8528813719749451, 'sgh'),\n",
       " (0.8458672165870667, 'i55sr'),\n",
       " (0.8454095721244812, 'i95cl'),\n",
       " (0.8451084494590759, 'i50sx'),\n",
       " (0.8444380164146423, 'a957')]"
      ]
     },
     "execution_count": 122,
     "metadata": {},
     "output_type": "execute_result"
    }
   ],
   "source": [
    "model.get_nearest_neighbors('razr')"
   ]
  },
  {
   "cell_type": "code",
   "execution_count": 123,
   "metadata": {},
   "outputs": [
    {
     "data": {
      "text/plain": [
       "[(0.9207808375358582, 'telecaster'),\n",
       " (0.9023835062980652, 'starcaster'),\n",
       " (0.8275824785232544, 'strat'),\n",
       " (0.8056992888450623, 'squier'),\n",
       " (0.7930323481559753, 'forecaster'),\n",
       " (0.7841600775718689, 'fender'),\n",
       " (0.7797226905822754, 'hss'),\n",
       " (0.7754448056221008, 'synyster'),\n",
       " (0.7649683356285095, 'sunburst'),\n",
       " (0.757795512676239, 'tremolo')]"
      ]
     },
     "execution_count": 123,
     "metadata": {},
     "output_type": "execute_result"
    }
   ],
   "source": [
    "model.get_nearest_neighbors('stratocaster')"
   ]
  },
  {
   "cell_type": "markdown",
   "metadata": {},
   "source": [
    "#### Other"
   ]
  },
  {
   "cell_type": "code",
   "execution_count": 124,
   "metadata": {},
   "outputs": [
    {
     "data": {
      "text/plain": [
       "[(0.9776589870452881, 'holidays'),\n",
       " (0.8339588046073914, 'kwanzaa'),\n",
       " (0.8210069537162781, 'día'),\n",
       " (0.8169721364974976, 'hanukkah'),\n",
       " (0.8144399523735046, 'buy'),\n",
       " (0.8116978406906128, 'vibes'),\n",
       " (0.8087191581726074, 'cumpleaños'),\n",
       " (0.8067864179611206, 'gracias'),\n",
       " (0.8067839741706848, 'congrats'),\n",
       " (0.8001271486282349, 'navidad')]"
      ]
     },
     "execution_count": 124,
     "metadata": {},
     "output_type": "execute_result"
    }
   ],
   "source": [
    "model.get_nearest_neighbors('holiday')"
   ]
  },
  {
   "cell_type": "code",
   "execution_count": 125,
   "metadata": {},
   "outputs": [
    {
     "data": {
      "text/plain": [
       "[(0.8561182618141174, '600hz'),\n",
       " (0.8143249154090881, '480hz'),\n",
       " (0.8096691966056824, 'hdtvs'),\n",
       " (0.7964454293251038, 'edtv'),\n",
       " (0.7928016185760498, '58'),\n",
       " (0.7918755412101746, '63'),\n",
       " (0.7911931276321411, 'hdtv'),\n",
       " (0.790882408618927, '480p'),\n",
       " (0.7820399403572083, 'aquos'),\n",
       " (0.7800616025924683, '720p')]"
      ]
     },
     "execution_count": 125,
     "metadata": {},
     "output_type": "execute_result"
    }
   ],
   "source": [
    "model.get_nearest_neighbors('plasma')"
   ]
  },
  {
   "cell_type": "code",
   "execution_count": 126,
   "metadata": {},
   "outputs": [
    {
     "data": {
      "text/plain": [
       "[(0.9126930832862854, 'leatherskin'),\n",
       " (0.7073385715484619, 'recliner'),\n",
       " (0.6906315684318542, 'hipcase'),\n",
       " (0.6888184547424316, 'berkline'),\n",
       " (0.6798998117446899, 'curved'),\n",
       " (0.6694930791854858, 'theaterseatstore'),\n",
       " (0.6683762669563293, 'magnolia'),\n",
       " (0.6619722843170166, 'seating'),\n",
       " (0.6597440838813782, 'armless'),\n",
       " (0.652084231376648, 'slipcase')]"
      ]
     },
     "execution_count": 126,
     "metadata": {},
     "output_type": "execute_result"
    }
   ],
   "source": [
    "model.get_nearest_neighbors('leather')"
   ]
  },
  {
   "cell_type": "markdown",
   "metadata": {},
   "source": [
    "## Increasing epochs = 25"
   ]
  },
  {
   "cell_type": "code",
   "execution_count": 128,
   "metadata": {},
   "outputs": [
    {
     "name": "stderr",
     "output_type": "stream",
     "text": [
      "Read 1M words\n",
      "Number of words:  8903\n",
      "Number of labels: 0\n",
      "Progress: 100.0% words/sec/thread:   19277 lr:  0.000000 avg.loss:  1.076012 ETA:   0h 0m 0s\n"
     ]
    }
   ],
   "source": [
    "model = fasttext.train_unsupervised(model = 'skipgram',\n",
    "                                    input = '/workspace/datasets/fasttext/normalized_titles.txt',\n",
    "                                    epoch = 25)"
   ]
  },
  {
   "cell_type": "markdown",
   "metadata": {},
   "source": [
    "#### Product types"
   ]
  },
  {
   "cell_type": "code",
   "execution_count": 129,
   "metadata": {},
   "outputs": [
    {
     "data": {
      "text/plain": [
       "[(0.9101961851119995, 'earbud'),\n",
       " (0.868574321269989, 'headphone'),\n",
       " (0.832120954990387, 'ear'),\n",
       " (0.6951853036880493, 'earphones'),\n",
       " (0.6881842613220215, 'superbudz'),\n",
       " (0.6869868636131287, '2xl'),\n",
       " (0.680428683757782, 'lowrider'),\n",
       " (0.6717972755432129, 'bud'),\n",
       " (0.6688070893287659, 'backbeat'),\n",
       " (0.6511826515197754, 'behind')]"
      ]
     },
     "execution_count": 129,
     "metadata": {},
     "output_type": "execute_result"
    }
   ],
   "source": [
    "model.get_nearest_neighbors('headphones')"
   ]
  },
  {
   "cell_type": "code",
   "execution_count": 130,
   "metadata": {},
   "outputs": [
    {
     "data": {
      "text/plain": [
       "[(0.6615343689918518, 'notebook'),\n",
       " (0.6596641540527344, '176'),\n",
       " (0.6523770093917847, 'netbook'),\n",
       " (0.6413260698318481, '178'),\n",
       " (0.6207646727561951, 'zenbook'),\n",
       " (0.6180056929588318, '179'),\n",
       " (0.6166394948959351, '156b'),\n",
       " (0.6124466061592102, 's5919'),\n",
       " (0.6123392581939697, '177'),\n",
       " (0.6059682965278625, 'ultrabook')]"
      ]
     },
     "execution_count": 130,
     "metadata": {},
     "output_type": "execute_result"
    }
   ],
   "source": [
    "model.get_nearest_neighbors('laptop')"
   ]
  },
  {
   "cell_type": "code",
   "execution_count": 131,
   "metadata": {},
   "outputs": [
    {
     "data": {
      "text/plain": [
       "[(0.9144962430000305, 'freezers'),\n",
       " (0.7456715703010559, 'refrigerator'),\n",
       " (0.6942262649536133, 'mug'),\n",
       " (0.6694881916046143, 'refrigerators'),\n",
       " (0.6641954779624939, 'cu'),\n",
       " (0.6561124324798584, 'ft'),\n",
       " (0.6533827185630798, 'side'),\n",
       " (0.6421054601669312, 'bottom'),\n",
       " (0.6369955539703369, 'satina'),\n",
       " (0.6289098262786865, 'ice2o')]"
      ]
     },
     "execution_count": 131,
     "metadata": {},
     "output_type": "execute_result"
    }
   ],
   "source": [
    "model.get_nearest_neighbors('freezer')"
   ]
  },
  {
   "cell_type": "markdown",
   "metadata": {},
   "source": [
    "#### Brands"
   ]
  },
  {
   "cell_type": "code",
   "execution_count": 132,
   "metadata": {},
   "outputs": [
    {
     "data": {
      "text/plain": [
       "[(0.9488509893417358, 'ds'),\n",
       " (0.9385260939598083, 'wii'),\n",
       " (0.8369333744049072, 'nintendogs'),\n",
       " (0.7798648476600647, '3ds'),\n",
       " (0.7521668076515198, 'gamecube'),\n",
       " (0.7356975674629211, 'psp'),\n",
       " (0.7232993841171265, 'playstation'),\n",
       " (0.7175878882408142, 'advance'),\n",
       " (0.705117404460907, 'boy'),\n",
       " (0.6871598362922668, 'xbox')]"
      ]
     },
     "execution_count": 132,
     "metadata": {},
     "output_type": "execute_result"
    }
   ],
   "source": [
    "model.get_nearest_neighbors('nintendo')"
   ]
  },
  {
   "cell_type": "code",
   "execution_count": 133,
   "metadata": {},
   "outputs": [
    {
     "data": {
      "text/plain": [
       "[(0.7844407558441162, 'maytag'),\n",
       " (0.7664726972579956, 'biscuit'),\n",
       " (0.7518386244773865, 'frigidaire'),\n",
       " (0.7381290197372437, 'ge'),\n",
       " (0.7075919508934021, 'inglis'),\n",
       " (0.6973232626914978, 'bisque'),\n",
       " (0.67243492603302, 'hotpoint'),\n",
       " (0.6674540042877197, 'cleansteel'),\n",
       " (0.650240957736969, 'satina'),\n",
       " (0.6423548460006714, 'gas')]"
      ]
     },
     "execution_count": 133,
     "metadata": {},
     "output_type": "execute_result"
    }
   ],
   "source": [
    "model.get_nearest_neighbors('whirlpool')"
   ]
  },
  {
   "cell_type": "code",
   "execution_count": 134,
   "metadata": {},
   "outputs": [
    {
     "data": {
      "text/plain": [
       "[(0.856397807598114, 'easyshare'),\n",
       " (0.6832489967346191, 'c813'),\n",
       " (0.6769503355026245, 'm863'),\n",
       " (0.6702114939689636, 'm893'),\n",
       " (0.6549410223960876, 'playsport'),\n",
       " (0.6524822115898132, 'm763'),\n",
       " (0.6497923135757446, 'm1063'),\n",
       " (0.6411676406860352, 'm381'),\n",
       " (0.6410190463066101, 'playtouch'),\n",
       " (0.628979504108429, 'm341')]"
      ]
     },
     "execution_count": 134,
     "metadata": {},
     "output_type": "execute_result"
    }
   ],
   "source": [
    "model.get_nearest_neighbors('kodak')"
   ]
  },
  {
   "cell_type": "markdown",
   "metadata": {},
   "source": [
    "### Models"
   ]
  },
  {
   "cell_type": "code",
   "execution_count": 135,
   "metadata": {},
   "outputs": [
    {
     "data": {
      "text/plain": [
       "[(0.743659257888794, 'ps3'),\n",
       " (0.7289877533912659, 'playstation'),\n",
       " (0.7154685258865356, 'gamecube'),\n",
       " (0.705649197101593, 'xbox'),\n",
       " (0.6996206641197205, 'psp'),\n",
       " (0.6672667264938354, 'gba'),\n",
       " (0.6635426878929138, 'guide'),\n",
       " (0.6567842364311218, '360'),\n",
       " (0.628485918045044, '2k5'),\n",
       " (0.626676082611084, 'codes')]"
      ]
     },
     "execution_count": 135,
     "metadata": {},
     "output_type": "execute_result"
    }
   ],
   "source": [
    "model.get_nearest_neighbors('ps2')"
   ]
  },
  {
   "cell_type": "code",
   "execution_count": 136,
   "metadata": {},
   "outputs": [
    {
     "data": {
      "text/plain": [
       "[(0.7872809767723083, 'motorola'),\n",
       " (0.7501631379127502, 'krzr'),\n",
       " (0.726353645324707, 't720'),\n",
       " (0.7113621234893799, 'droid'),\n",
       " (0.7106636762619019, 'a855'),\n",
       " (0.6878895163536072, 'backflip'),\n",
       " (0.6824169158935547, 'captivate'),\n",
       " (0.671724259853363, 'r225'),\n",
       " (0.6716495752334595, 'katana'),\n",
       " (0.6691858768463135, 'photon')]"
      ]
     },
     "execution_count": 136,
     "metadata": {},
     "output_type": "execute_result"
    }
   ],
   "source": [
    "model.get_nearest_neighbors('razr')"
   ]
  },
  {
   "cell_type": "code",
   "execution_count": 137,
   "metadata": {},
   "outputs": [
    {
     "data": {
      "text/plain": [
       "[(0.8802252411842346, 'telecaster'),\n",
       " (0.791517972946167, 'fender'),\n",
       " (0.7821407318115234, 'fretboard'),\n",
       " (0.7768542766571045, 'strat'),\n",
       " (0.7744718790054321, 'starcaster'),\n",
       " (0.7549101114273071, 'squier'),\n",
       " (0.7400326132774353, 'hss'),\n",
       " (0.7013980150222778, 'worn'),\n",
       " (0.680253267288208, 'thinline'),\n",
       " (0.6756905913352966, 'tremolo')]"
      ]
     },
     "execution_count": 137,
     "metadata": {},
     "output_type": "execute_result"
    }
   ],
   "source": [
    "model.get_nearest_neighbors('stratocaster')"
   ]
  },
  {
   "cell_type": "markdown",
   "metadata": {},
   "source": [
    "#### Other"
   ]
  },
  {
   "cell_type": "code",
   "execution_count": 138,
   "metadata": {},
   "outputs": [
    {
     "data": {
      "text/plain": [
       "[(0.9434413909912109, 'holidays'),\n",
       " (0.7283152937889099, 'vibes'),\n",
       " (0.7019318342208862, 'nobr'),\n",
       " (0.6571457386016846, 'stocking'),\n",
       " (0.6431208848953247, 'grab'),\n",
       " (0.6324362754821777, 'dreidel'),\n",
       " (0.6274356245994568, 'reuse'),\n",
       " (0.6199308037757874, 'despicable'),\n",
       " (0.6103247404098511, 'kwanzaa'),\n",
       " (0.6097993850708008, 'hanukkah')]"
      ]
     },
     "execution_count": 138,
     "metadata": {},
     "output_type": "execute_result"
    }
   ],
   "source": [
    "model.get_nearest_neighbors('holiday')"
   ]
  },
  {
   "cell_type": "code",
   "execution_count": 139,
   "metadata": {},
   "outputs": [
    {
     "data": {
      "text/plain": [
       "[(0.7716155052185059, '600hz'),\n",
       " (0.7149290442466736, 'hdtv'),\n",
       " (0.7122379541397095, '480hz'),\n",
       " (0.6807251572608948, 'ambilight'),\n",
       " (0.656670331954956, 'viera'),\n",
       " (0.6427713632583618, 'kuro'),\n",
       " (0.6397998929023743, 'edtv'),\n",
       " (0.638934850692749, 'purevision'),\n",
       " (0.622340738773346, '58'),\n",
       " (0.6158860921859741, 'hdtvs')]"
      ]
     },
     "execution_count": 139,
     "metadata": {},
     "output_type": "execute_result"
    }
   ],
   "source": [
    "model.get_nearest_neighbors('plasma')"
   ]
  },
  {
   "cell_type": "code",
   "execution_count": 140,
   "metadata": {},
   "outputs": [
    {
     "data": {
      "text/plain": [
       "[(0.7891209721565247, 'leatherskin'),\n",
       " (0.6668113470077515, 'armless'),\n",
       " (0.6656706929206848, 'recliner'),\n",
       " (0.651976466178894, 'sofa'),\n",
       " (0.6494664549827576, 'berkline'),\n",
       " (0.5985611081123352, 'curved'),\n",
       " (0.5938190221786499, 'executive'),\n",
       " (0.5930474400520325, 'maccase'),\n",
       " (0.592458188533783, 'dolan'),\n",
       " (0.5848910808563232, 'theaterseatstore')]"
      ]
     },
     "execution_count": 140,
     "metadata": {},
     "output_type": "execute_result"
    }
   ],
   "source": [
    "model.get_nearest_neighbors('leather')"
   ]
  },
  {
   "cell_type": "markdown",
   "metadata": {},
   "source": [
    "### Ignoring rare words: minCount = 20"
   ]
  },
  {
   "cell_type": "code",
   "execution_count": 158,
   "metadata": {},
   "outputs": [
    {
     "name": "stderr",
     "output_type": "stream",
     "text": [
      "Read 1M words\n",
      "Number of words:  3861\n",
      "Number of labels: 0\n",
      "Progress: 100.0% words/sec/thread:   29796 lr:  0.000000 avg.loss:  1.194604 ETA:   0h 0m 0s\n"
     ]
    }
   ],
   "source": [
    "model = fasttext.train_unsupervised(model = 'skipgram',\n",
    "                                    input = '/workspace/datasets/fasttext/normalized_titles.txt',\n",
    "                                    epoch = 25,\n",
    "                                    minCount = 20)"
   ]
  },
  {
   "cell_type": "markdown",
   "metadata": {},
   "source": [
    "#### Product types"
   ]
  },
  {
   "cell_type": "code",
   "execution_count": 142,
   "metadata": {},
   "outputs": [
    {
     "data": {
      "text/plain": [
       "[(0.9077590703964233, 'earbud'),\n",
       " (0.8633512258529663, 'ear'),\n",
       " (0.8367388248443604, 'headphone'),\n",
       " (0.6919692754745483, 'earphones'),\n",
       " (0.6578373908996582, 'lowrider'),\n",
       " (0.632967472076416, 'bud'),\n",
       " (0.6313893795013428, 'canceling'),\n",
       " (0.6285480260848999, 'behind'),\n",
       " (0.6254199743270874, 'isolating'),\n",
       " (0.6225119829177856, '2xl')]"
      ]
     },
     "execution_count": 142,
     "metadata": {},
     "output_type": "execute_result"
    }
   ],
   "source": [
    "model.get_nearest_neighbors('headphones')"
   ]
  },
  {
   "cell_type": "code",
   "execution_count": 143,
   "metadata": {},
   "outputs": [
    {
     "data": {
      "text/plain": [
       "[(0.696130633354187, 'notebook'),\n",
       " (0.6253318190574646, 'netbook'),\n",
       " (0.5776479244232178, 'ultrabook'),\n",
       " (0.5627023577690125, 'laptops'),\n",
       " (0.5543901324272156, 'biscotti'),\n",
       " (0.5523476004600525, 'briefcase'),\n",
       " (0.5378716588020325, '6gb'),\n",
       " (0.5368289947509766, 'mouse'),\n",
       " (0.527636706829071, 'notebooks'),\n",
       " (0.5220662355422974, 'dell')]"
      ]
     },
     "execution_count": 143,
     "metadata": {},
     "output_type": "execute_result"
    }
   ],
   "source": [
    "model.get_nearest_neighbors('laptop')"
   ]
  },
  {
   "cell_type": "code",
   "execution_count": 144,
   "metadata": {},
   "outputs": [
    {
     "data": {
      "text/plain": [
       "[(0.7267799973487854, 'refrigerator'),\n",
       " (0.6866878867149353, 'mug'),\n",
       " (0.6628516912460327, 'cu'),\n",
       " (0.6429688334465027, 'ft'),\n",
       " (0.6273143291473389, 'satina'),\n",
       " (0.6246259808540344, 'bottom'),\n",
       " (0.6219789385795593, 'frost'),\n",
       " (0.618651270866394, 'refrigerators'),\n",
       " (0.6148020625114441, 'side'),\n",
       " (0.5872531533241272, 'customstyle')]"
      ]
     },
     "execution_count": 144,
     "metadata": {},
     "output_type": "execute_result"
    }
   ],
   "source": [
    "model.get_nearest_neighbors('freezer')"
   ]
  },
  {
   "cell_type": "markdown",
   "metadata": {},
   "source": [
    "#### Brands"
   ]
  },
  {
   "cell_type": "code",
   "execution_count": 145,
   "metadata": {},
   "outputs": [
    {
     "data": {
      "text/plain": [
       "[(0.951678991317749, 'ds'),\n",
       " (0.9297282099723816, 'wii'),\n",
       " (0.772692859172821, 'gamecube'),\n",
       " (0.7635993361473083, '3ds'),\n",
       " (0.7447153329849243, 'advance'),\n",
       " (0.7401416301727295, 'psp'),\n",
       " (0.722452700138092, 'boy'),\n",
       " (0.7012931108474731, 'playstation'),\n",
       " (0.6968538761138916, 'xbox'),\n",
       " (0.6683907508850098, '360')]"
      ]
     },
     "execution_count": 145,
     "metadata": {},
     "output_type": "execute_result"
    }
   ],
   "source": [
    "model.get_nearest_neighbors('nintendo')"
   ]
  },
  {
   "cell_type": "code",
   "execution_count": 146,
   "metadata": {},
   "outputs": [
    {
     "data": {
      "text/plain": [
       "[(0.7700554132461548, 'maytag'),\n",
       " (0.7523990869522095, 'biscuit'),\n",
       " (0.736309826374054, 'frigidaire'),\n",
       " (0.7147598266601562, 'ge'),\n",
       " (0.708550214767456, 'inglis'),\n",
       " (0.6801213026046753, 'bisque'),\n",
       " (0.6548628807067871, 'hotpoint'),\n",
       " (0.642379641532898, 'cleansteel'),\n",
       " (0.6310959458351135, 'accubake'),\n",
       " (0.6188372373580933, 'lg')]"
      ]
     },
     "execution_count": 146,
     "metadata": {},
     "output_type": "execute_result"
    }
   ],
   "source": [
    "model.get_nearest_neighbors('whirlpool')"
   ]
  },
  {
   "cell_type": "code",
   "execution_count": 147,
   "metadata": {},
   "outputs": [
    {
     "data": {
      "text/plain": [
       "[(0.8246306777000427, 'easyshare'),\n",
       " (0.6692595481872559, 'm863'),\n",
       " (0.6459836959838867, 'playsport'),\n",
       " (0.6437517404556274, 'm893'),\n",
       " (0.6318531632423401, 'playtouch'),\n",
       " (0.6304375529289246, 'm1063'),\n",
       " (0.6267918944358826, 'm340'),\n",
       " (0.5941880345344543, 'esp'),\n",
       " (0.5790358185768127, 'packard'),\n",
       " (0.5651094913482666, 'canon')]"
      ]
     },
     "execution_count": 147,
     "metadata": {},
     "output_type": "execute_result"
    }
   ],
   "source": [
    "model.get_nearest_neighbors('kodak')"
   ]
  },
  {
   "cell_type": "markdown",
   "metadata": {},
   "source": [
    "### Models"
   ]
  },
  {
   "cell_type": "code",
   "execution_count": 148,
   "metadata": {},
   "outputs": [
    {
     "data": {
      "text/plain": [
       "[(0.7710532546043396, 'gamecube'),\n",
       " (0.7530308961868286, 'ps3'),\n",
       " (0.7519135475158691, 'xbox'),\n",
       " (0.735420823097229, 'guide'),\n",
       " (0.7233341932296753, 'playstation'),\n",
       " (0.7192734479904175, 'gba'),\n",
       " (0.6991167664527893, '360'),\n",
       " (0.6877713799476624, 'psp'),\n",
       " (0.6404472589492798, 'wii'),\n",
       " (0.6385394334793091, 'game')]"
      ]
     },
     "execution_count": 148,
     "metadata": {},
     "output_type": "execute_result"
    }
   ],
   "source": [
    "model.get_nearest_neighbors('ps2')"
   ]
  },
  {
   "cell_type": "code",
   "execution_count": 149,
   "metadata": {},
   "outputs": [
    {
     "data": {
      "text/plain": [
       "[(0.8113381862640381, 'motorola'),\n",
       " (0.7371107935905457, 'droid'),\n",
       " (0.6878838539123535, 'nokia'),\n",
       " (0.6594678163528442, 'atrix'),\n",
       " (0.621213972568512, 'sph'),\n",
       " (0.6165000200271606, 'phones'),\n",
       " (0.595081090927124, '9700'),\n",
       " (0.5907431244850159, 'treo'),\n",
       " (0.5896117687225342, 'cell'),\n",
       " (0.5837921500205994, '8530')]"
      ]
     },
     "execution_count": 149,
     "metadata": {},
     "output_type": "execute_result"
    }
   ],
   "source": [
    "model.get_nearest_neighbors('razr')"
   ]
  },
  {
   "cell_type": "code",
   "execution_count": 150,
   "metadata": {},
   "outputs": [
    {
     "data": {
      "text/plain": [
       "[(0.8738535642623901, 'telecaster'),\n",
       " (0.7752670645713806, 'strat'),\n",
       " (0.7598609924316406, 'fender'),\n",
       " (0.7562196254730225, 'squier'),\n",
       " (0.7503111362457275, 'fretboard'),\n",
       " (0.6443420052528381, 'sunburst'),\n",
       " (0.6072401404380798, 'tele'),\n",
       " (0.606623649597168, 'rosewood'),\n",
       " (0.5614346265792847, 'jazz'),\n",
       " (0.5499764680862427, 'burst')]"
      ]
     },
     "execution_count": 150,
     "metadata": {},
     "output_type": "execute_result"
    }
   ],
   "source": [
    "model.get_nearest_neighbors('stratocaster')"
   ]
  },
  {
   "cell_type": "markdown",
   "metadata": {},
   "source": [
    "#### Other"
   ]
  },
  {
   "cell_type": "code",
   "execution_count": 151,
   "metadata": {},
   "outputs": [
    {
     "data": {
      "text/plain": [
       "[(0.623079776763916, 'hanukkah'),\n",
       " (0.6095627546310425, 'kwanzaa'),\n",
       " (0.5833070874214172, 'congratulations'),\n",
       " (0.5734252333641052, 'graduation'),\n",
       " (0.5693238973617554, 'buy'),\n",
       " (0.5664883852005005, 'merry'),\n",
       " (0.5622283816337585, 'navidad'),\n",
       " (0.5601946115493774, 'gift'),\n",
       " (0.5568721890449524, 'happy'),\n",
       " (0.547725260257721, 'cumpleaños')]"
      ]
     },
     "execution_count": 151,
     "metadata": {},
     "output_type": "execute_result"
    }
   ],
   "source": [
    "model.get_nearest_neighbors('holiday')"
   ]
  },
  {
   "cell_type": "code",
   "execution_count": 152,
   "metadata": {},
   "outputs": [
    {
     "data": {
      "text/plain": [
       "[(0.7620000243186951, '600hz'),\n",
       " (0.6796069145202637, 'hdtv'),\n",
       " (0.6122992038726807, 'viera'),\n",
       " (0.5990015864372253, 'dlp'),\n",
       " (0.5792747735977173, '58'),\n",
       " (0.5751847624778748, 'hdtvs'),\n",
       " (0.5733826756477356, '63'),\n",
       " (0.5717700123786926, 'vivitek'),\n",
       " (0.5701650381088257, '46'),\n",
       " (0.5644906163215637, 'tvs')]"
      ]
     },
     "execution_count": 152,
     "metadata": {},
     "output_type": "execute_result"
    }
   ],
   "source": [
    "model.get_nearest_neighbors('plasma')"
   ]
  },
  {
   "cell_type": "code",
   "execution_count": 186,
   "metadata": {},
   "outputs": [
    {
     "data": {
      "text/plain": [
       "[(0.6537390947341919, 'armless'),\n",
       " (0.6365533471107483, 'recliner'),\n",
       " (0.5998279452323914, 'berkline'),\n",
       " (0.5972900986671448, 'seating'),\n",
       " (0.5934311747550964, 'curved'),\n",
       " (0.5850229263305664, 'theaterseatstore'),\n",
       " (0.5704469680786133, 'magnolia'),\n",
       " (0.5590958595275879, 'bodhi'),\n",
       " (0.5548452138900757, 'sofa'),\n",
       " (0.5489217042922974, 'headliner')]"
      ]
     },
     "execution_count": 186,
     "metadata": {},
     "output_type": "execute_result"
    }
   ],
   "source": [
    "model.get_nearest_neighbors('leather')"
   ]
  },
  {
   "cell_type": "code",
   "execution_count": 188,
   "metadata": {},
   "outputs": [
    {
     "data": {
      "text/plain": [
       "'armless'"
      ]
     },
     "execution_count": 188,
     "metadata": {},
     "output_type": "execute_result"
    }
   ],
   "source": [
    "model.get_nearest_neighbors('leather')[0][1]"
   ]
  },
  {
   "cell_type": "code",
   "execution_count": 159,
   "metadata": {},
   "outputs": [
    {
     "ename": "ValueError",
     "evalue": "workspace/datasets/fasttext/title_model.bin cannot be opened for saving!",
     "output_type": "error",
     "traceback": [
      "\u001b[0;31m---------------------------------------------------------------------------\u001b[0m",
      "\u001b[0;31mValueError\u001b[0m                                Traceback (most recent call last)",
      "\u001b[1;32m/workspace/search_with_machine_learning_course/week2/playground.ipynb Cell 112'\u001b[0m in \u001b[0;36m<cell line: 1>\u001b[0;34m()\u001b[0m\n\u001b[0;32m----> <a href='vscode-notebook-cell://juliatessle-searchwithm-8w9kbxmcu75.ws-us47.gitpod.io/workspace/search_with_machine_learning_course/week2/playground.ipynb#ch0000121vscode-remote?line=0'>1</a>\u001b[0m model\u001b[39m.\u001b[39;49msave_model(\u001b[39m'\u001b[39;49m\u001b[39mworkspace/datasets/fasttext/title_model.bin\u001b[39;49m\u001b[39m'\u001b[39;49m)\n",
      "File \u001b[0;32m~/.pyenv/versions/3.9.7/envs/search_with_ml/lib/python3.9/site-packages/fasttext/FastText.py:306\u001b[0m, in \u001b[0;36m_FastText.save_model\u001b[0;34m(self, path)\u001b[0m\n\u001b[1;32m    304\u001b[0m \u001b[39mdef\u001b[39;00m \u001b[39msave_model\u001b[39m(\u001b[39mself\u001b[39m, path):\n\u001b[1;32m    305\u001b[0m     \u001b[39m\"\"\"Save the model to the given path\"\"\"\u001b[39;00m\n\u001b[0;32m--> 306\u001b[0m     \u001b[39mself\u001b[39;49m\u001b[39m.\u001b[39;49mf\u001b[39m.\u001b[39;49msaveModel(path)\n",
      "\u001b[0;31mValueError\u001b[0m: workspace/datasets/fasttext/title_model.bin cannot be opened for saving!"
     ]
    }
   ],
   "source": [
    "model.save_model('workspace/datasets/fasttext//title_model.bin')"
   ]
  },
  {
   "cell_type": "markdown",
   "metadata": {},
   "source": [
    "# Level 3: Integrating Synonyms with Search\n",
    "`cat /workspace/datasets/fasttext/normalized_titles.txt | tr \" \" \"\\n\" | grep \"....\" | sort | uniq -c | sort -nr | head -1000 | grep -oE '[^ ]+$' > /workspace/datasets/fasttext/top_words.txt`\n",
    "\n",
    "The above does the following:\n",
    "\n",
    "* Replace each space with a newline, so we get one word per line.\n",
    "* Only keep words containing at least 4 characters.\n",
    "* Sort the words in alphabetical order.\n",
    "* Deduplicate the words and keep the counts, yielding a 2-columns file where each line is a count followed by the word.\n",
    "* Sort the count-word pairs in descending order of count.\n",
    "* Keep only the top 1,000 entries, i.e., the 1,000 most frequently occurring words.\n",
    "* Remove the counts so we only output the words.\n",
    "* Output the result of this process to /workspace/datasets/fasttext/top_words.txt."
   ]
  },
  {
   "cell_type": "code",
   "execution_count": 160,
   "metadata": {},
   "outputs": [
    {
     "data": {
      "text/html": [
       "<div>\n",
       "<style scoped>\n",
       "    .dataframe tbody tr th:only-of-type {\n",
       "        vertical-align: middle;\n",
       "    }\n",
       "\n",
       "    .dataframe tbody tr th {\n",
       "        vertical-align: top;\n",
       "    }\n",
       "\n",
       "    .dataframe thead th {\n",
       "        text-align: right;\n",
       "    }\n",
       "</style>\n",
       "<table border=\"1\" class=\"dataframe\">\n",
       "  <thead>\n",
       "    <tr style=\"text-align: right;\">\n",
       "      <th></th>\n",
       "      <th>0</th>\n",
       "    </tr>\n",
       "  </thead>\n",
       "  <tbody>\n",
       "    <tr>\n",
       "      <th>0</th>\n",
       "      <td>black</td>\n",
       "    </tr>\n",
       "    <tr>\n",
       "      <th>1</th>\n",
       "      <td>with</td>\n",
       "    </tr>\n",
       "    <tr>\n",
       "      <th>2</th>\n",
       "      <td>digital</td>\n",
       "    </tr>\n",
       "    <tr>\n",
       "      <th>3</th>\n",
       "      <td>white</td>\n",
       "    </tr>\n",
       "    <tr>\n",
       "      <th>4</th>\n",
       "      <td>case</td>\n",
       "    </tr>\n",
       "  </tbody>\n",
       "</table>\n",
       "</div>"
      ],
      "text/plain": [
       "         0\n",
       "0    black\n",
       "1     with\n",
       "2  digital\n",
       "3    white\n",
       "4     case"
      ]
     },
     "execution_count": 160,
     "metadata": {},
     "output_type": "execute_result"
    }
   ],
   "source": [
    "skipgram_model = model# fastText.load_model('workspace/datasets/fasttext/title_model.bin')\n",
    "top_words = pd.read_table('/workspace/datasets/fasttext/top_words.txt', header = None)\n",
    "top_words.head()"
   ]
  },
  {
   "cell_type": "code",
   "execution_count": 208,
   "metadata": {},
   "outputs": [
    {
     "data": {
      "text/plain": [
       "0.6925215721130371"
      ]
     },
     "execution_count": 208,
     "metadata": {},
     "output_type": "execute_result"
    }
   ],
   "source": [
    "model.get_nearest_neighbors(top_words[0][0])[0][0]"
   ]
  },
  {
   "cell_type": "code",
   "execution_count": 211,
   "metadata": {},
   "outputs": [],
   "source": [
    "synonyms_df = []\n",
    "for i in range(0, len(top_words)):\n",
    "   # synonyms_df.at[0, i] = top_words[0][i]\n",
    "    nn = skipgram_model.get_nearest_neighbors(top_words[0][i])\n",
    "    synonyms = []\n",
    "\n",
    "    for j in range(0, len(nn)):\n",
    "        similarity = nn[j][0]\n",
    "        if similarity >= 0.75:\n",
    "            synonyms.append(nn[j][1])\n",
    "        else:\n",
    "            pass\n",
    "    \n",
    "    if len(synonyms) > 0:\n",
    "        synonyms.insert(0, top_words[0][i])\n",
    "        synonyms_df.append(synonyms)\n",
    "    else: \n",
    "        pass"
   ]
  },
  {
   "cell_type": "code",
   "execution_count": 214,
   "metadata": {},
   "outputs": [],
   "source": [
    "synonyms_df = pd.DataFrame(synonyms_df)"
   ]
  },
  {
   "cell_type": "code",
   "execution_count": 215,
   "metadata": {},
   "outputs": [
    {
     "ename": "",
     "evalue": "",
     "output_type": "error",
     "traceback": [
      "\u001b[1;31mThe Kernel crashed while executing code in the the current cell or a previous cell. Please review the code in the cell(s) to identify a possible cause of the failure. Click <a href='https://aka.ms/vscodeJupyterKernelCrash'>here</a> for more info. View Jupyter <a href='command:jupyter.viewOutput'>log</a> for further details."
     ]
    }
   ],
   "source": [
    "synonyms_df.to_csv('/workspace/datasets/fasttext/synonyms.csv', sep = ',', header = None)"
   ]
  },
  {
   "cell_type": "markdown",
   "metadata": {},
   "source": [
    "Copy file to Docker container: `docker cp /workspace/datasets/fasttext/synonyms.csv opensearch-node1:/usr/share/opensearch/config/synonyms.csv`"
   ]
  },
  {
   "cell_type": "code",
   "execution_count": null,
   "metadata": {},
   "outputs": [],
   "source": []
  }
 ],
 "metadata": {
  "kernelspec": {
   "display_name": "Python 3.9.7 64-bit ('search_with_ml')",
   "language": "python",
   "name": "python3"
  },
  "language_info": {
   "codemirror_mode": {
    "name": "ipython",
    "version": 3
   },
   "file_extension": ".py",
   "mimetype": "text/x-python",
   "name": "python",
   "nbconvert_exporter": "python",
   "pygments_lexer": "ipython3",
   "version": "3.9.7"
  },
  "orig_nbformat": 4,
  "vscode": {
   "interpreter": {
    "hash": "67e596a8a2bf29352050fb333d24bd7b02bfe9fb96f64551bb2b9fad903a30a1"
   }
  }
 },
 "nbformat": 4,
 "nbformat_minor": 2
}
