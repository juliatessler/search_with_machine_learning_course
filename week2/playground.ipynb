{
 "cells": [
  {
   "cell_type": "markdown",
   "metadata": {},
   "source": [
    "# Playground\n",
    "Much like my Notepad, this playground is a place for me to test things."
   ]
  },
  {
   "cell_type": "markdown",
   "metadata": {},
   "source": [
    "# Level 1"
   ]
  },
  {
   "cell_type": "code",
   "execution_count": 1,
   "metadata": {},
   "outputs": [],
   "source": [
    "import pandas as pd\n",
    "import numpy as np"
   ]
  },
  {
   "cell_type": "code",
   "execution_count": 2,
   "metadata": {},
   "outputs": [],
   "source": [
    "labeled_products = pd.read_table('/workspace/datasets/fasttext/shuffled_labeled_products.txt',\n",
    "    header = None)"
   ]
  },
  {
   "cell_type": "code",
   "execution_count": 3,
   "metadata": {},
   "outputs": [
    {
     "data": {
      "text/html": [
       "<div>\n",
       "<style scoped>\n",
       "    .dataframe tbody tr th:only-of-type {\n",
       "        vertical-align: middle;\n",
       "    }\n",
       "\n",
       "    .dataframe tbody tr th {\n",
       "        vertical-align: top;\n",
       "    }\n",
       "\n",
       "    .dataframe thead th {\n",
       "        text-align: right;\n",
       "    }\n",
       "</style>\n",
       "<table border=\"1\" class=\"dataframe\">\n",
       "  <thead>\n",
       "    <tr style=\"text-align: right;\">\n",
       "      <th></th>\n",
       "      <th>0</th>\n",
       "    </tr>\n",
       "  </thead>\n",
       "  <tbody>\n",
       "    <tr>\n",
       "      <th>0</th>\n",
       "      <td>__label__abcat0807005 HP - 15 Inkjet Cartridge...</td>\n",
       "    </tr>\n",
       "    <tr>\n",
       "      <th>1</th>\n",
       "      <td>__label__abcat0912020 Aroma - 8-Cup Rice Cooke...</td>\n",
       "    </tr>\n",
       "    <tr>\n",
       "      <th>2</th>\n",
       "      <td>__label__abcat0916013 Smart Choice - HEPA Filt...</td>\n",
       "    </tr>\n",
       "    <tr>\n",
       "      <th>3</th>\n",
       "      <td>__label__abcat0410003 Lowepro - Ridge 30 Pouch...</td>\n",
       "    </tr>\n",
       "    <tr>\n",
       "      <th>4</th>\n",
       "      <td>__label__abcat0201009 8GB iPod touch® - Black,...</td>\n",
       "    </tr>\n",
       "  </tbody>\n",
       "</table>\n",
       "</div>"
      ],
      "text/plain": [
       "                                                   0\n",
       "0  __label__abcat0807005 HP - 15 Inkjet Cartridge...\n",
       "1  __label__abcat0912020 Aroma - 8-Cup Rice Cooke...\n",
       "2  __label__abcat0916013 Smart Choice - HEPA Filt...\n",
       "3  __label__abcat0410003 Lowepro - Ridge 30 Pouch...\n",
       "4  __label__abcat0201009 8GB iPod touch® - Black,..."
      ]
     },
     "execution_count": 3,
     "metadata": {},
     "output_type": "execute_result"
    }
   ],
   "source": [
    "labeled_products.head()"
   ]
  },
  {
   "cell_type": "code",
   "execution_count": 4,
   "metadata": {},
   "outputs": [
    {
     "data": {
      "text/plain": [
       "(115503, 1)"
      ]
     },
     "execution_count": 4,
     "metadata": {},
     "output_type": "execute_result"
    }
   ],
   "source": [
    "labeled_products.shape"
   ]
  },
  {
   "cell_type": "markdown",
   "metadata": {},
   "source": [
    "Doesn't look that shuffled to me..."
   ]
  },
  {
   "cell_type": "code",
   "execution_count": 5,
   "metadata": {},
   "outputs": [
    {
     "data": {
      "text/html": [
       "<div>\n",
       "<style scoped>\n",
       "    .dataframe tbody tr th:only-of-type {\n",
       "        vertical-align: middle;\n",
       "    }\n",
       "\n",
       "    .dataframe tbody tr th {\n",
       "        vertical-align: top;\n",
       "    }\n",
       "\n",
       "    .dataframe thead th {\n",
       "        text-align: right;\n",
       "    }\n",
       "</style>\n",
       "<table border=\"1\" class=\"dataframe\">\n",
       "  <thead>\n",
       "    <tr style=\"text-align: right;\">\n",
       "      <th></th>\n",
       "      <th>0</th>\n",
       "    </tr>\n",
       "  </thead>\n",
       "  <tbody>\n",
       "    <tr>\n",
       "      <th>0</th>\n",
       "      <td>__label__abcat0101001 Insignia™ - 42\" Class / ...</td>\n",
       "    </tr>\n",
       "    <tr>\n",
       "      <th>1</th>\n",
       "      <td>__label__abcat0503002 NETGEAR RangeMax 802.11g...</td>\n",
       "    </tr>\n",
       "    <tr>\n",
       "      <th>2</th>\n",
       "      <td>__label__pcmcat196400050015 Frigidaire - Galle...</td>\n",
       "    </tr>\n",
       "    <tr>\n",
       "      <th>3</th>\n",
       "      <td>__label__abcat0302004 Sony - Xplod 170W x 4 Am...</td>\n",
       "    </tr>\n",
       "    <tr>\n",
       "      <th>4</th>\n",
       "      <td>__label__pcmcat238300050017 Conair - Custom Cu...</td>\n",
       "    </tr>\n",
       "  </tbody>\n",
       "</table>\n",
       "</div>"
      ],
      "text/plain": [
       "                                                   0\n",
       "0  __label__abcat0101001 Insignia™ - 42\" Class / ...\n",
       "1  __label__abcat0503002 NETGEAR RangeMax 802.11g...\n",
       "2  __label__pcmcat196400050015 Frigidaire - Galle...\n",
       "3  __label__abcat0302004 Sony - Xplod 170W x 4 Am...\n",
       "4  __label__pcmcat238300050017 Conair - Custom Cu..."
      ]
     },
     "execution_count": 5,
     "metadata": {},
     "output_type": "execute_result"
    }
   ],
   "source": [
    "labeled_products = labeled_products.sample(frac = 1).reset_index(drop = True)\n",
    "labeled_products.head()"
   ]
  },
  {
   "cell_type": "code",
   "execution_count": 6,
   "metadata": {},
   "outputs": [
    {
     "data": {
      "text/plain": [
       "(10000, 1)"
      ]
     },
     "execution_count": 6,
     "metadata": {},
     "output_type": "execute_result"
    }
   ],
   "source": [
    "training_data = labeled_products.loc[0:9999]\n",
    "training_data.shape"
   ]
  },
  {
   "cell_type": "code",
   "execution_count": 7,
   "metadata": {},
   "outputs": [
    {
     "data": {
      "text/html": [
       "<div>\n",
       "<style scoped>\n",
       "    .dataframe tbody tr th:only-of-type {\n",
       "        vertical-align: middle;\n",
       "    }\n",
       "\n",
       "    .dataframe tbody tr th {\n",
       "        vertical-align: top;\n",
       "    }\n",
       "\n",
       "    .dataframe thead th {\n",
       "        text-align: right;\n",
       "    }\n",
       "</style>\n",
       "<table border=\"1\" class=\"dataframe\">\n",
       "  <thead>\n",
       "    <tr style=\"text-align: right;\">\n",
       "      <th></th>\n",
       "      <th>0</th>\n",
       "    </tr>\n",
       "  </thead>\n",
       "  <tbody>\n",
       "    <tr>\n",
       "      <th>0</th>\n",
       "      <td>__label__abcat0101001 Insignia™ - 42\" Class / ...</td>\n",
       "    </tr>\n",
       "    <tr>\n",
       "      <th>1</th>\n",
       "      <td>__label__abcat0503002 NETGEAR RangeMax 802.11g...</td>\n",
       "    </tr>\n",
       "    <tr>\n",
       "      <th>2</th>\n",
       "      <td>__label__pcmcat196400050015 Frigidaire - Galle...</td>\n",
       "    </tr>\n",
       "    <tr>\n",
       "      <th>3</th>\n",
       "      <td>__label__abcat0302004 Sony - Xplod 170W x 4 Am...</td>\n",
       "    </tr>\n",
       "    <tr>\n",
       "      <th>4</th>\n",
       "      <td>__label__pcmcat238300050017 Conair - Custom Cu...</td>\n",
       "    </tr>\n",
       "  </tbody>\n",
       "</table>\n",
       "</div>"
      ],
      "text/plain": [
       "                                                   0\n",
       "0  __label__abcat0101001 Insignia™ - 42\" Class / ...\n",
       "1  __label__abcat0503002 NETGEAR RangeMax 802.11g...\n",
       "2  __label__pcmcat196400050015 Frigidaire - Galle...\n",
       "3  __label__abcat0302004 Sony - Xplod 170W x 4 Am...\n",
       "4  __label__pcmcat238300050017 Conair - Custom Cu..."
      ]
     },
     "execution_count": 7,
     "metadata": {},
     "output_type": "execute_result"
    }
   ],
   "source": [
    "training_data.head()"
   ]
  },
  {
   "cell_type": "code",
   "execution_count": 8,
   "metadata": {},
   "outputs": [],
   "source": [
    "training_data.to_csv('/workspace/datasets/fasttext/training_data.txt', header = None, index = None, mode = 'a')\n"
   ]
  },
  {
   "cell_type": "code",
   "execution_count": 9,
   "metadata": {},
   "outputs": [
    {
     "data": {
      "text/plain": [
       "(10000, 1)"
      ]
     },
     "execution_count": 9,
     "metadata": {},
     "output_type": "execute_result"
    }
   ],
   "source": [
    "test_data = labeled_products.tail(10000)\n",
    "test_data.shape"
   ]
  },
  {
   "cell_type": "code",
   "execution_count": 10,
   "metadata": {},
   "outputs": [],
   "source": [
    "test_data.to_csv('/workspace/datasets/fasttext/test_data.txt', header = None, index = None, mode = 'a')\n"
   ]
  },
  {
   "cell_type": "markdown",
   "metadata": {},
   "source": [
    "## Train model!"
   ]
  },
  {
   "cell_type": "code",
   "execution_count": 11,
   "metadata": {},
   "outputs": [],
   "source": [
    "import fasttext"
   ]
  },
  {
   "cell_type": "code",
   "execution_count": 12,
   "metadata": {},
   "outputs": [
    {
     "name": "stderr",
     "output_type": "stream",
     "text": [
      "Read 0M words\n",
      "Number of words:  16297\n",
      "Number of labels: 1473\n",
      "Progress: 100.0% words/sec/thread:   10746 lr:  0.000000 avg.loss: 11.681223 ETA:   0h 0m 0s\n"
     ]
    }
   ],
   "source": [
    "# Train model\n",
    "product_classifier = fasttext.train_supervised(input = '/workspace/datasets/fasttext/training_data.txt')"
   ]
  },
  {
   "cell_type": "code",
   "execution_count": 13,
   "metadata": {},
   "outputs": [],
   "source": [
    "product_classifier.save_model(\"product_classifier\")"
   ]
  },
  {
   "cell_type": "markdown",
   "metadata": {},
   "source": [
    "### @1"
   ]
  },
  {
   "cell_type": "code",
   "execution_count": 14,
   "metadata": {},
   "outputs": [
    {
     "data": {
      "text/plain": [
       "(15901, 0.1882900446512798, 0.1882900446512798)"
      ]
     },
     "execution_count": 14,
     "metadata": {},
     "output_type": "execute_result"
    }
   ],
   "source": [
    "product_classifier.test('/workspace/datasets/fasttext/test_data.txt')"
   ]
  },
  {
   "cell_type": "markdown",
   "metadata": {},
   "source": [
    "### @5"
   ]
  },
  {
   "cell_type": "code",
   "execution_count": 15,
   "metadata": {},
   "outputs": [
    {
     "data": {
      "text/plain": [
       "(15901, 0.06780705615998994, 0.3390352807999497)"
      ]
     },
     "execution_count": 15,
     "metadata": {},
     "output_type": "execute_result"
    }
   ],
   "source": [
    "product_classifier.test('/workspace/datasets/fasttext/test_data.txt', k = 5)"
   ]
  },
  {
   "cell_type": "markdown",
   "metadata": {},
   "source": [
    "### @10"
   ]
  },
  {
   "cell_type": "code",
   "execution_count": 16,
   "metadata": {},
   "outputs": [
    {
     "data": {
      "text/plain": [
       "(15901, 0.04046286397081945, 0.40462863970819446)"
      ]
     },
     "execution_count": 16,
     "metadata": {},
     "output_type": "execute_result"
    }
   ],
   "source": [
    "product_classifier.test('/workspace/datasets/fasttext/test_data.txt', k = 10)"
   ]
  },
  {
   "cell_type": "markdown",
   "metadata": {},
   "source": [
    "## Fine tunning - epoch = 25 and lr = 1.0"
   ]
  },
  {
   "cell_type": "code",
   "execution_count": 17,
   "metadata": {},
   "outputs": [
    {
     "name": "stderr",
     "output_type": "stream",
     "text": [
      "Read 0M words\n",
      "Number of words:  16297\n",
      "Number of labels: 1473\n",
      "Progress: 100.0% words/sec/thread:    9477 lr:  0.000000 avg.loss:  0.819866 ETA:   0h 0m 0s\n"
     ]
    }
   ],
   "source": [
    "model = fasttext.train_supervised(input = '/workspace/datasets/fasttext/training_data.txt', \n",
    "                                  lr = 1, \n",
    "                                  epoch = 25)"
   ]
  },
  {
   "cell_type": "code",
   "execution_count": 18,
   "metadata": {},
   "outputs": [
    {
     "data": {
      "text/plain": [
       "(15901, 0.6884472674674549, 0.6884472674674549)"
      ]
     },
     "execution_count": 18,
     "metadata": {},
     "output_type": "execute_result"
    }
   ],
   "source": [
    "model.test('/workspace/datasets/fasttext/test_data.txt')"
   ]
  },
  {
   "cell_type": "markdown",
   "metadata": {},
   "source": [
    "## Fine tunning - bigrams"
   ]
  },
  {
   "cell_type": "code",
   "execution_count": 19,
   "metadata": {},
   "outputs": [
    {
     "name": "stderr",
     "output_type": "stream",
     "text": [
      "Read 0M words\n",
      "Number of words:  16297\n",
      "Number of labels: 1473\n",
      "Progress: 100.0% words/sec/thread:    8331 lr:  0.000000 avg.loss:  1.311731 ETA:   0h 0m 0s\n"
     ]
    }
   ],
   "source": [
    "model = fasttext.train_supervised(input = '/workspace/datasets/fasttext/training_data.txt', \n",
    "                                  lr = 1.0, \n",
    "                                  epoch = 25,\n",
    "                                  wordNgrams = 2)"
   ]
  },
  {
   "cell_type": "code",
   "execution_count": 20,
   "metadata": {},
   "outputs": [
    {
     "data": {
      "text/plain": [
       "(15901, 0.6790767876234199, 0.6790767876234199)"
      ]
     },
     "execution_count": 20,
     "metadata": {},
     "output_type": "execute_result"
    }
   ],
   "source": [
    "model.test('/workspace/datasets/fasttext/test_data.txt')"
   ]
  },
  {
   "cell_type": "markdown",
   "metadata": {},
   "source": [
    "## Using normalized data"
   ]
  },
  {
   "cell_type": "markdown",
   "metadata": {},
   "source": [
    "`cat /workspace/datasets/fasttext/training_lite.txt |sed -e \"s/\\([.\\!?,'/()]\\)/ \\1 /g\" | tr \"[:upper:]\" \"[:lower:]\" | sed \"s/[^[:alnum:]_]/ /g\" | tr -s ' ' > /workspace/datasets/fasttext/normalized_training_lite.txt`"
   ]
  },
  {
   "cell_type": "code",
   "execution_count": 21,
   "metadata": {},
   "outputs": [
    {
     "name": "stderr",
     "output_type": "stream",
     "text": [
      "Read 0M words\n",
      "Number of words:  8703\n",
      "Number of labels: 1371\n",
      "Progress: 100.0% words/sec/thread:    7942 lr:  0.000000 avg.loss:  1.038188 ETA:   0h 0m 0s\n"
     ]
    }
   ],
   "source": [
    "model = fasttext.train_supervised(input = '/workspace/datasets/fasttext/normalized_training_lite.txt', \n",
    "                                  lr = 1, \n",
    "                                  epoch = 25)"
   ]
  },
  {
   "cell_type": "code",
   "execution_count": 22,
   "metadata": {},
   "outputs": [
    {
     "data": {
      "text/plain": [
       "(9683, 0.6207786842920583, 0.6207786842920583)"
      ]
     },
     "execution_count": 22,
     "metadata": {},
     "output_type": "execute_result"
    }
   ],
   "source": [
    "model.test('/workspace/datasets/fasttext/normalized_test_lite.txt')"
   ]
  },
  {
   "cell_type": "markdown",
   "metadata": {},
   "source": [
    "## Filtering out for at least N = 500 products"
   ]
  },
  {
   "cell_type": "code",
   "execution_count": 23,
   "metadata": {},
   "outputs": [
    {
     "data": {
      "text/html": [
       "<div>\n",
       "<style scoped>\n",
       "    .dataframe tbody tr th:only-of-type {\n",
       "        vertical-align: middle;\n",
       "    }\n",
       "\n",
       "    .dataframe tbody tr th {\n",
       "        vertical-align: top;\n",
       "    }\n",
       "\n",
       "    .dataframe thead th {\n",
       "        text-align: right;\n",
       "    }\n",
       "</style>\n",
       "<table border=\"1\" class=\"dataframe\">\n",
       "  <thead>\n",
       "    <tr style=\"text-align: right;\">\n",
       "      <th></th>\n",
       "      <th>0</th>\n",
       "    </tr>\n",
       "  </thead>\n",
       "  <tbody>\n",
       "    <tr>\n",
       "      <th>0</th>\n",
       "      <td>__label__abcat0101001 Insignia™ - 42\" Class / ...</td>\n",
       "    </tr>\n",
       "    <tr>\n",
       "      <th>1</th>\n",
       "      <td>__label__abcat0503002 NETGEAR RangeMax 802.11g...</td>\n",
       "    </tr>\n",
       "    <tr>\n",
       "      <th>2</th>\n",
       "      <td>__label__pcmcat196400050015 Frigidaire - Galle...</td>\n",
       "    </tr>\n",
       "    <tr>\n",
       "      <th>3</th>\n",
       "      <td>__label__abcat0302004 Sony - Xplod 170W x 4 Am...</td>\n",
       "    </tr>\n",
       "    <tr>\n",
       "      <th>4</th>\n",
       "      <td>__label__pcmcat238300050017 Conair - Custom Cu...</td>\n",
       "    </tr>\n",
       "  </tbody>\n",
       "</table>\n",
       "</div>"
      ],
      "text/plain": [
       "                                                   0\n",
       "0  __label__abcat0101001 Insignia™ - 42\" Class / ...\n",
       "1  __label__abcat0503002 NETGEAR RangeMax 802.11g...\n",
       "2  __label__pcmcat196400050015 Frigidaire - Galle...\n",
       "3  __label__abcat0302004 Sony - Xplod 170W x 4 Am...\n",
       "4  __label__pcmcat238300050017 Conair - Custom Cu..."
      ]
     },
     "execution_count": 23,
     "metadata": {},
     "output_type": "execute_result"
    }
   ],
   "source": [
    "labeled_products.head()"
   ]
  },
  {
   "cell_type": "code",
   "execution_count": 24,
   "metadata": {},
   "outputs": [],
   "source": []
  },
  {
   "cell_type": "code",
   "execution_count": 25,
   "metadata": {},
   "outputs": [
    {
     "name": "stdout",
     "output_type": "stream",
     "text": [
      "Mapping labels\n",
      "Found labels to keep!\n",
      "Saved pruned_labeled_products.txt\n"
     ]
    }
   ],
   "source": [
    "plp = create_pruned_labeled_products(labeled_products)"
   ]
  },
  {
   "cell_type": "code",
   "execution_count": 26,
   "metadata": {},
   "outputs": [
    {
     "data": {
      "text/html": [
       "<div>\n",
       "<style scoped>\n",
       "    .dataframe tbody tr th:only-of-type {\n",
       "        vertical-align: middle;\n",
       "    }\n",
       "\n",
       "    .dataframe tbody tr th {\n",
       "        vertical-align: top;\n",
       "    }\n",
       "\n",
       "    .dataframe thead th {\n",
       "        text-align: right;\n",
       "    }\n",
       "</style>\n",
       "<table border=\"1\" class=\"dataframe\">\n",
       "  <thead>\n",
       "    <tr style=\"text-align: right;\">\n",
       "      <th></th>\n",
       "      <th>0</th>\n",
       "    </tr>\n",
       "  </thead>\n",
       "  <tbody>\n",
       "    <tr>\n",
       "      <th>0</th>\n",
       "      <td>__label__abcat0101001 Insignia™ - 42\" Class / ...</td>\n",
       "    </tr>\n",
       "    <tr>\n",
       "      <th>1</th>\n",
       "      <td>__label__cat09000 Best Buy GC - $30 Blue Camer...</td>\n",
       "    </tr>\n",
       "    <tr>\n",
       "      <th>2</th>\n",
       "      <td>__label__abcat0106001 Studio RTA - Lake Point ...</td>\n",
       "    </tr>\n",
       "    <tr>\n",
       "      <th>3</th>\n",
       "      <td>__label__abcat0515028 Rain Computers - Big Nam...</td>\n",
       "    </tr>\n",
       "    <tr>\n",
       "      <th>4</th>\n",
       "      <td>__label__abcat0301014 Garmin 010-00657-18 nüvi...</td>\n",
       "    </tr>\n",
       "  </tbody>\n",
       "</table>\n",
       "</div>"
      ],
      "text/plain": [
       "                                                   0\n",
       "0  __label__abcat0101001 Insignia™ - 42\" Class / ...\n",
       "1  __label__cat09000 Best Buy GC - $30 Blue Camer...\n",
       "2  __label__abcat0106001 Studio RTA - Lake Point ...\n",
       "3  __label__abcat0515028 Rain Computers - Big Nam...\n",
       "4  __label__abcat0301014 Garmin 010-00657-18 nüvi..."
      ]
     },
     "execution_count": 26,
     "metadata": {},
     "output_type": "execute_result"
    }
   ],
   "source": [
    "plp.head()"
   ]
  },
  {
   "cell_type": "code",
   "execution_count": 27,
   "metadata": {},
   "outputs": [
    {
     "data": {
      "text/plain": [
       "(28921, 1)"
      ]
     },
     "execution_count": 27,
     "metadata": {},
     "output_type": "execute_result"
    }
   ],
   "source": [
    "plp.shape"
   ]
  },
  {
   "cell_type": "markdown",
   "metadata": {},
   "source": [
    "## Shuffle and split this dataset!"
   ]
  },
  {
   "cell_type": "code",
   "execution_count": 28,
   "metadata": {},
   "outputs": [
    {
     "data": {
      "text/html": [
       "<div>\n",
       "<style scoped>\n",
       "    .dataframe tbody tr th:only-of-type {\n",
       "        vertical-align: middle;\n",
       "    }\n",
       "\n",
       "    .dataframe tbody tr th {\n",
       "        vertical-align: top;\n",
       "    }\n",
       "\n",
       "    .dataframe thead th {\n",
       "        text-align: right;\n",
       "    }\n",
       "</style>\n",
       "<table border=\"1\" class=\"dataframe\">\n",
       "  <thead>\n",
       "    <tr style=\"text-align: right;\">\n",
       "      <th></th>\n",
       "      <th>0</th>\n",
       "    </tr>\n",
       "  </thead>\n",
       "  <tbody>\n",
       "    <tr>\n",
       "      <th>0</th>\n",
       "      <td>__label__abcat0904003 Frigidaire - 30\" Freesta...</td>\n",
       "    </tr>\n",
       "    <tr>\n",
       "      <th>1</th>\n",
       "      <td>__label__abcat0904003 GE - Profile 30\" Self-Cl...</td>\n",
       "    </tr>\n",
       "    <tr>\n",
       "      <th>2</th>\n",
       "      <td>__label__abcat0904003 GE - 30\" Self-Cleaning F...</td>\n",
       "    </tr>\n",
       "    <tr>\n",
       "      <th>3</th>\n",
       "      <td>__label__abcat0301014 Magellan - RoadMate 800 ...</td>\n",
       "    </tr>\n",
       "    <tr>\n",
       "      <th>4</th>\n",
       "      <td>__label__abcat0905001 GE - Profile 24\" Tall Tu...</td>\n",
       "    </tr>\n",
       "  </tbody>\n",
       "</table>\n",
       "</div>"
      ],
      "text/plain": [
       "                                                   0\n",
       "0  __label__abcat0904003 Frigidaire - 30\" Freesta...\n",
       "1  __label__abcat0904003 GE - Profile 30\" Self-Cl...\n",
       "2  __label__abcat0904003 GE - 30\" Self-Cleaning F...\n",
       "3  __label__abcat0301014 Magellan - RoadMate 800 ...\n",
       "4  __label__abcat0905001 GE - Profile 24\" Tall Tu..."
      ]
     },
     "execution_count": 28,
     "metadata": {},
     "output_type": "execute_result"
    }
   ],
   "source": [
    "pruned_df = plp.sample(frac = 1).reset_index(drop = True)\n",
    "pruned_df.head()"
   ]
  },
  {
   "cell_type": "code",
   "execution_count": 29,
   "metadata": {},
   "outputs": [
    {
     "data": {
      "text/plain": [
       "(10000, 1)"
      ]
     },
     "execution_count": 29,
     "metadata": {},
     "output_type": "execute_result"
    }
   ],
   "source": [
    "pruned_training_data = pruned_df.loc[0:9999]\n",
    "pruned_training_data.shape"
   ]
  },
  {
   "cell_type": "code",
   "execution_count": 30,
   "metadata": {},
   "outputs": [],
   "source": [
    "pruned_training_data.to_csv('/workspace/datasets/fasttext/pruned_training_data.txt', header = None, index = None, mode = 'a')"
   ]
  },
  {
   "cell_type": "code",
   "execution_count": 31,
   "metadata": {},
   "outputs": [
    {
     "data": {
      "text/plain": [
       "(10000, 1)"
      ]
     },
     "execution_count": 31,
     "metadata": {},
     "output_type": "execute_result"
    }
   ],
   "source": [
    "pruned_test_data = pruned_df.tail(10000)\n",
    "pruned_test_data.shape"
   ]
  },
  {
   "cell_type": "code",
   "execution_count": 32,
   "metadata": {},
   "outputs": [],
   "source": [
    "pruned_test_data.to_csv('/workspace/datasets/fasttext/pruned_test_data.txt', header = None, index = None, mode = 'a')"
   ]
  },
  {
   "cell_type": "markdown",
   "metadata": {},
   "source": [
    "## Train model on pruned data"
   ]
  },
  {
   "cell_type": "code",
   "execution_count": 33,
   "metadata": {},
   "outputs": [
    {
     "name": "stderr",
     "output_type": "stream",
     "text": [
      "Read 0M words\n",
      "Number of words:  8732\n",
      "Number of labels: 32\n",
      "Progress: 100.0% words/sec/thread:  234478 lr:  0.000000 avg.loss:  0.023585 ETA:   0h 0m 0s\n"
     ]
    }
   ],
   "source": [
    "model = fasttext.train_supervised(input = '/workspace/datasets/fasttext/pruned_training_data.txt', \n",
    "                                  lr = 1, \n",
    "                                  epoch = 25)"
   ]
  },
  {
   "cell_type": "code",
   "execution_count": 34,
   "metadata": {},
   "outputs": [
    {
     "data": {
      "text/plain": [
       "(13043, 0.9733190216974622, 0.9733190216974622)"
      ]
     },
     "execution_count": 34,
     "metadata": {},
     "output_type": "execute_result"
    }
   ],
   "source": [
    "model.test('/workspace/datasets/fasttext/pruned_test_data.txt')"
   ]
  },
  {
   "cell_type": "markdown",
   "metadata": {},
   "source": [
    "# Level 2: Derive Synonyms from Content"
   ]
  },
  {
   "cell_type": "markdown",
   "metadata": {},
   "source": [
    "`cut -d' ' -f2- /workspace/datasets/fasttext/shuffled_labeled_products.txt > /workspace/datasets/fasttext/titles.txt` I can't believe this gets the category labels."
   ]
  },
  {
   "cell_type": "code",
   "execution_count": 35,
   "metadata": {},
   "outputs": [
    {
     "name": "stderr",
     "output_type": "stream",
     "text": [
      "Read 1M words\n",
      "Number of words:  10873\n",
      "Number of labels: 0\n",
      "Progress: 100.0% words/sec/thread:   18657 lr:  0.000000 avg.loss:  1.370575 ETA:   0h 0m 0s\n"
     ]
    }
   ],
   "source": [
    "model = fasttext.train_unsupervised(model = 'skipgram',\n",
    "                                    input = '/workspace/datasets/fasttext/titles.txt')"
   ]
  },
  {
   "cell_type": "code",
   "execution_count": 36,
   "metadata": {},
   "outputs": [
    {
     "data": {
      "text/plain": [
       "[(0.862642765045166, 'Saxophone'),\n",
       " (0.850262463092804, 'Speakerphone'),\n",
       " (0.8443905711174011, 'Telephone'),\n",
       " (0.8322615027427673, 'Microphone'),\n",
       " (0.8050101399421692, 'Earphones'),\n",
       " (0.8026003837585449, 'Telephones'),\n",
       " (0.7994995713233948, 'Headphone'),\n",
       " (0.786597728729248, 'GoPhone'),\n",
       " (0.7848433256149292, 'Phone'),\n",
       " (0.7822263836860657, 'Ozone')]"
      ]
     },
     "execution_count": 36,
     "metadata": {},
     "output_type": "execute_result"
    }
   ],
   "source": [
    "model.get_nearest_neighbors('iphone')"
   ]
  },
  {
   "cell_type": "code",
   "execution_count": 37,
   "metadata": {},
   "outputs": [
    {
     "data": {
      "text/plain": [
       "[(0.9466185569763184, 'iPhone®,'),\n",
       " (0.9300370216369629, 'iPhone®'),\n",
       " (0.8454962372779846, 'iPod®/iPhone'),\n",
       " (0.8246084451675415, 'iPod®/iPhone®'),\n",
       " (0.8177050352096558, '3GS'),\n",
       " (0.8127597570419312, '3GS,'),\n",
       " (0.8094018697738647, '3G/3GS'),\n",
       " (0.8039283156394958, '3G/3G'),\n",
       " (0.8021930456161499, '4S'),\n",
       " (0.7951489090919495, '3G,')]"
      ]
     },
     "execution_count": 37,
     "metadata": {},
     "output_type": "execute_result"
    }
   ],
   "source": [
    "model.get_nearest_neighbors('iPhone')"
   ]
  },
  {
   "cell_type": "markdown",
   "metadata": {},
   "source": [
    "### Normalizing titles data\n",
    "`cat /workspace/datasets/fasttext/titles.txt | sed -e \"s/\\([.\\!?,'/()]\\)/ \\1 /g\" | tr \"[:upper:]\" \"[:lower:]\" | sed \"s/[^[:alnum:]]/ /g\" | tr -s ' ' > /workspace/datasets/fasttext/normalized_titles.txt`"
   ]
  },
  {
   "cell_type": "code",
   "execution_count": 38,
   "metadata": {},
   "outputs": [
    {
     "name": "stderr",
     "output_type": "stream",
     "text": [
      "Read 1M words\n",
      "Number of words:  8903\n",
      "Number of labels: 0\n",
      "Progress: 100.0% words/sec/thread:   20804 lr:  0.000000 avg.loss:  1.550549 ETA:   0h 0m 0s 37.0% words/sec/thread:   21146 lr:  0.031507 avg.loss:  2.411935 ETA:   0h 0m11s\n"
     ]
    }
   ],
   "source": [
    "model = fasttext.train_unsupervised(model = 'skipgram',\n",
    "                                    input = '/workspace/datasets/fasttext/normalized_titles.txt')"
   ]
  },
  {
   "cell_type": "code",
   "execution_count": 39,
   "metadata": {},
   "outputs": [
    {
     "data": {
      "text/plain": [
       "[(0.8660082221031189, '4s'),\n",
       " (0.7941620945930481, 'apple'),\n",
       " (0.7679271101951599, '3gs'),\n",
       " (0.7466674447059631, 'ipod'),\n",
       " (0.7256027460098267, 'appleÂ'),\n",
       " (0.7083044648170471, 'ipodÂ'),\n",
       " (0.705051600933075, 'ipadÂ'),\n",
       " (0.7002970576286316, 'ifrogz'),\n",
       " (0.6987919807434082, 'ozone'),\n",
       " (0.6972020864486694, 'unobtainium')]"
      ]
     },
     "execution_count": 39,
     "metadata": {},
     "output_type": "execute_result"
    }
   ],
   "source": [
    "model.get_nearest_neighbors('iphone')"
   ]
  },
  {
   "cell_type": "code",
   "execution_count": 40,
   "metadata": {},
   "outputs": [
    {
     "data": {
      "text/plain": [
       "[(0.9280170202255249, 'hone'),\n",
       " (0.8490738272666931, 'phone'),\n",
       " (0.8306847214698792, 'gophone'),\n",
       " (0.8143390417098999, 'ozone'),\n",
       " (0.7922474145889282, 'saxophone'),\n",
       " (0.7594821453094482, 'iphone'),\n",
       " (0.7536320090293884, 'speakerphone'),\n",
       " (0.7527094483375549, 'jawbone'),\n",
       " (0.7506572604179382, 'bone'),\n",
       " (0.712533712387085, 'alone')]"
      ]
     },
     "execution_count": 40,
     "metadata": {},
     "output_type": "execute_result"
    }
   ],
   "source": [
    "model.get_nearest_neighbors('iPhone')"
   ]
  },
  {
   "cell_type": "code",
   "execution_count": 41,
   "metadata": {},
   "outputs": [
    {
     "data": {
      "text/plain": [
       "[(0.9283570647239685, 'phone'),\n",
       " (0.9220640063285828, 'gophone'),\n",
       " (0.8217782378196716, 'speakerphone'),\n",
       " (0.812666654586792, 'saxophone'),\n",
       " (0.8052788376808167, 'hone'),\n",
       " (0.7950165271759033, 'telephone'),\n",
       " (0.7836975455284119, 'iphone'),\n",
       " (0.7821744084358215, 'ozone'),\n",
       " (0.7720203995704651, 'earphones'),\n",
       " (0.7682393193244934, 'telephones')]"
      ]
     },
     "execution_count": 41,
     "metadata": {},
     "output_type": "execute_result"
    }
   ],
   "source": [
    "model.get_nearest_neighbors('Iphone')"
   ]
  },
  {
   "cell_type": "markdown",
   "metadata": {},
   "source": [
    "### Testing tokens"
   ]
  },
  {
   "cell_type": "markdown",
   "metadata": {},
   "source": [
    "#### Product types"
   ]
  },
  {
   "cell_type": "code",
   "execution_count": 42,
   "metadata": {},
   "outputs": [
    {
     "data": {
      "text/plain": [
       "[(0.9316138029098511, 'headphone'),\n",
       " (0.8996431827545166, 'earbud'),\n",
       " (0.853122353553772, 'ear'),\n",
       " (0.8447486758232117, 'earphones'),\n",
       " (0.7626540660858154, 'bud'),\n",
       " (0.7467065453529358, '2xl'),\n",
       " (0.7430037260055542, 'earbuds'),\n",
       " (0.7165864109992981, 'microphones'),\n",
       " (0.7073571681976318, 'behind'),\n",
       " (0.7004403471946716, 'ears')]"
      ]
     },
     "execution_count": 42,
     "metadata": {},
     "output_type": "execute_result"
    }
   ],
   "source": [
    "model.get_nearest_neighbors('headphones')"
   ]
  },
  {
   "cell_type": "code",
   "execution_count": 43,
   "metadata": {},
   "outputs": [
    {
     "data": {
      "text/plain": [
       "[(0.7322827577590942, 'laptops'),\n",
       " (0.7183035016059875, '156b'),\n",
       " (0.7051650881767273, '17r'),\n",
       " (0.6916542649269104, 'i15'),\n",
       " (0.6907384395599365, '178'),\n",
       " (0.6901426911354065, 's5919'),\n",
       " (0.6875993013381958, 'lapdesk'),\n",
       " (0.6870904564857483, 'durabook'),\n",
       " (0.6858730912208557, 't2390'),\n",
       " (0.685158908367157, '176')]"
      ]
     },
     "execution_count": 43,
     "metadata": {},
     "output_type": "execute_result"
    }
   ],
   "source": [
    "model.get_nearest_neighbors('laptop')"
   ]
  },
  {
   "cell_type": "code",
   "execution_count": 44,
   "metadata": {},
   "outputs": [
    {
     "data": {
      "text/plain": [
       "[(0.9246532917022705, 'freezers'),\n",
       " (0.8264536261558533, 'refrigerator'),\n",
       " (0.7996167540550232, 'refrigerators'),\n",
       " (0.7881417870521545, 'frost'),\n",
       " (0.7406349182128906, 'cu'),\n",
       " (0.7330312132835388, 'mug'),\n",
       " (0.7217652797698975, 'satina'),\n",
       " (0.7129825949668884, 'ft'),\n",
       " (0.7079470753669739, 'monochromatic'),\n",
       " (0.7043893337249756, 'cleansteel')]"
      ]
     },
     "execution_count": 44,
     "metadata": {},
     "output_type": "execute_result"
    }
   ],
   "source": [
    "model.get_nearest_neighbors('freezer')"
   ]
  },
  {
   "cell_type": "markdown",
   "metadata": {},
   "source": [
    "#### Brands"
   ]
  },
  {
   "cell_type": "code",
   "execution_count": 45,
   "metadata": {},
   "outputs": [
    {
     "data": {
      "text/plain": [
       "[(0.9760647416114807, 'nintendogs'),\n",
       " (0.9030267596244812, 'ds'),\n",
       " (0.8796069622039795, 'wii'),\n",
       " (0.8428035378456116, '3ds'),\n",
       " (0.77391117811203, 'gamecube'),\n",
       " (0.740477442741394, 'luigi'),\n",
       " (0.7338675260543823, 'zhu'),\n",
       " (0.7299030423164368, 'psp'),\n",
       " (0.723874568939209, 'ninjas'),\n",
       " (0.7236530184745789, 'wwii')]"
      ]
     },
     "execution_count": 45,
     "metadata": {},
     "output_type": "execute_result"
    }
   ],
   "source": [
    "model.get_nearest_neighbors('nintendo')"
   ]
  },
  {
   "cell_type": "code",
   "execution_count": 46,
   "metadata": {},
   "outputs": [
    {
     "data": {
      "text/plain": [
       "[(0.8807986378669739, 'whirl'),\n",
       " (0.8394858837127686, 'frigidaire'),\n",
       " (0.8347935080528259, 'maytag'),\n",
       " (0.8339022397994995, 'biscuit'),\n",
       " (0.830653727054596, 'bisque'),\n",
       " (0.7638772130012512, 'gallery'),\n",
       " (0.7526147961616516, 'cleansteel'),\n",
       " (0.7462554574012756, 'nautilus'),\n",
       " (0.7413251399993896, 'inglis'),\n",
       " (0.7383004426956177, 'gas')]"
      ]
     },
     "execution_count": 46,
     "metadata": {},
     "output_type": "execute_result"
    }
   ],
   "source": [
    "model.get_nearest_neighbors('whirlpool')"
   ]
  },
  {
   "cell_type": "code",
   "execution_count": 47,
   "metadata": {},
   "outputs": [
    {
     "data": {
      "text/plain": [
       "[(0.8861657381057739, 'easyshare'),\n",
       " (0.8230230212211609, 'm863'),\n",
       " (0.8104571104049683, 'm763'),\n",
       " (0.8069292902946472, 'm893'),\n",
       " (0.7964211702346802, 'c813'),\n",
       " (0.7933155298233032, 'm1063'),\n",
       " (0.7896784543991089, 'm341'),\n",
       " (0.7787225246429443, 'm381'),\n",
       " (0.7619840502738953, 'm340'),\n",
       " (0.7482796311378479, 'playtouch')]"
      ]
     },
     "execution_count": 47,
     "metadata": {},
     "output_type": "execute_result"
    }
   ],
   "source": [
    "model.get_nearest_neighbors('kodak')"
   ]
  },
  {
   "cell_type": "markdown",
   "metadata": {},
   "source": [
    "### Models"
   ]
  },
  {
   "cell_type": "code",
   "execution_count": 48,
   "metadata": {},
   "outputs": [
    {
     "data": {
      "text/plain": [
       "[(0.8773263096809387, 'ps3'),\n",
       " (0.8110273480415344, 'gba'),\n",
       " (0.8104366660118103, 'psp'),\n",
       " (0.8103382587432861, '2k5'),\n",
       " (0.8077419400215149, 'Â'),\n",
       " (0.8076554536819458, '2k3'),\n",
       " (0.8070772886276245, '2k8'),\n",
       " (0.8054624199867249, '2k7'),\n",
       " (0.7924477458000183, 'nhl'),\n",
       " (0.7918471097946167, 'xbox')]"
      ]
     },
     "execution_count": 48,
     "metadata": {},
     "output_type": "execute_result"
    }
   ],
   "source": [
    "model.get_nearest_neighbors('ps2')"
   ]
  },
  {
   "cell_type": "code",
   "execution_count": 49,
   "metadata": {},
   "outputs": [
    {
     "data": {
      "text/plain": [
       "[(0.8866004347801208, 'a855'),\n",
       " (0.8838928937911987, 'krzr'),\n",
       " (0.8597919940948486, 'e71'),\n",
       " (0.8550978302955627, 'sgh'),\n",
       " (0.8387491106987, 't720'),\n",
       " (0.83646559715271, 'i90c'),\n",
       " (0.8319584727287292, 'a957'),\n",
       " (0.8305213451385498, 'kyocera'),\n",
       " (0.8299548029899597, '7v'),\n",
       " (0.8297775387763977, 'hd7')]"
      ]
     },
     "execution_count": 49,
     "metadata": {},
     "output_type": "execute_result"
    }
   ],
   "source": [
    "model.get_nearest_neighbors('razr')"
   ]
  },
  {
   "cell_type": "code",
   "execution_count": 50,
   "metadata": {},
   "outputs": [
    {
     "data": {
      "text/plain": [
       "[(0.9143386483192444, 'telecaster'),\n",
       " (0.9054551124572754, 'starcaster'),\n",
       " (0.809802234172821, 'forecaster'),\n",
       " (0.8096722960472107, 'strat'),\n",
       " (0.8045992851257324, 'squier'),\n",
       " (0.7956680655479431, 'fender'),\n",
       " (0.776418149471283, 'synyster'),\n",
       " (0.7570697665214539, 'tremolo'),\n",
       " (0.7374893426895142, 'hss'),\n",
       " (0.7344993352890015, 'sunburst')]"
      ]
     },
     "execution_count": 50,
     "metadata": {},
     "output_type": "execute_result"
    }
   ],
   "source": [
    "model.get_nearest_neighbors('stratocaster')"
   ]
  },
  {
   "cell_type": "markdown",
   "metadata": {},
   "source": [
    "#### Other"
   ]
  },
  {
   "cell_type": "code",
   "execution_count": 51,
   "metadata": {},
   "outputs": [
    {
     "data": {
      "text/plain": [
       "[(0.9784823060035706, 'holidays'),\n",
       " (0.8225429654121399, 'kwanzaa'),\n",
       " (0.8194125890731812, 'vibes'),\n",
       " (0.8188290596008301, 'día'),\n",
       " (0.8152854442596436, 'gracias'),\n",
       " (0.8113676905632019, 'congrats'),\n",
       " (0.8096888065338135, 'buy'),\n",
       " (0.8075286149978638, 'thanks'),\n",
       " (0.8040497899055481, 'hanukkah'),\n",
       " (0.8033755421638489, 'navidad')]"
      ]
     },
     "execution_count": 51,
     "metadata": {},
     "output_type": "execute_result"
    }
   ],
   "source": [
    "model.get_nearest_neighbors('holiday')"
   ]
  },
  {
   "cell_type": "code",
   "execution_count": 52,
   "metadata": {},
   "outputs": [
    {
     "data": {
      "text/plain": [
       "[(0.8559969067573547, '600hz'),\n",
       " (0.8138182759284973, '480hz'),\n",
       " (0.8134418725967407, '58'),\n",
       " (0.8023808002471924, 'hdtv'),\n",
       " (0.8004066944122314, 'hdtvs'),\n",
       " (0.7995370626449585, '63'),\n",
       " (0.7956316471099854, 'edtv'),\n",
       " (0.7939620614051819, '480p'),\n",
       " (0.781460702419281, 'regza'),\n",
       " (0.780785322189331, 'aquos')]"
      ]
     },
     "execution_count": 52,
     "metadata": {},
     "output_type": "execute_result"
    }
   ],
   "source": [
    "model.get_nearest_neighbors('plasma')"
   ]
  },
  {
   "cell_type": "code",
   "execution_count": 53,
   "metadata": {},
   "outputs": [
    {
     "data": {
      "text/plain": [
       "[(0.9120498299598694, 'leatherskin'),\n",
       " (0.7080226540565491, 'recliner'),\n",
       " (0.6746559739112854, 'berkline'),\n",
       " (0.6687394976615906, 'hipcase'),\n",
       " (0.6561363935470581, 'magnolia'),\n",
       " (0.6516637206077576, 'curved'),\n",
       " (0.6459317207336426, 'seating'),\n",
       " (0.6455206871032715, 'sofa'),\n",
       " (0.6451421976089478, 'theaterseatstore'),\n",
       " (0.6373590230941772, 'executive')]"
      ]
     },
     "execution_count": 53,
     "metadata": {},
     "output_type": "execute_result"
    }
   ],
   "source": [
    "model.get_nearest_neighbors('leather')"
   ]
  },
  {
   "cell_type": "markdown",
   "metadata": {},
   "source": [
    "## Increasing epochs = 25"
   ]
  },
  {
   "cell_type": "code",
   "execution_count": 54,
   "metadata": {},
   "outputs": [
    {
     "name": "stderr",
     "output_type": "stream",
     "text": [
      "Read 1M words\n",
      "Number of words:  8903\n",
      "Number of labels: 0\n",
      "Progress: 100.0% words/sec/thread:   20200 lr:  0.000000 avg.loss:  1.137724 ETA:   0h 0m 0s\n"
     ]
    }
   ],
   "source": [
    "model = fasttext.train_unsupervised(model = 'skipgram',\n",
    "                                    input = '/workspace/datasets/fasttext/normalized_titles.txt',\n",
    "                                    epoch = 25)"
   ]
  },
  {
   "cell_type": "markdown",
   "metadata": {},
   "source": [
    "#### Product types"
   ]
  },
  {
   "cell_type": "code",
   "execution_count": 55,
   "metadata": {},
   "outputs": [
    {
     "data": {
      "text/plain": [
       "[(0.9157312512397766, 'earbud'),\n",
       " (0.8619622588157654, 'headphone'),\n",
       " (0.838262140750885, 'ear'),\n",
       " (0.6895906329154968, '2xl'),\n",
       " (0.6792140603065491, 'earphones'),\n",
       " (0.6706550121307373, 'over'),\n",
       " (0.6602503657341003, 'lowrider'),\n",
       " (0.6566639542579651, 'superbudz'),\n",
       " (0.6510161757469177, 'bud'),\n",
       " (0.6484337449073792, 'tunebuds')]"
      ]
     },
     "execution_count": 55,
     "metadata": {},
     "output_type": "execute_result"
    }
   ],
   "source": [
    "model.get_nearest_neighbors('headphones')"
   ]
  },
  {
   "cell_type": "code",
   "execution_count": 56,
   "metadata": {},
   "outputs": [
    {
     "data": {
      "text/plain": [
       "[(0.6585560441017151, 'netbook'),\n",
       " (0.6570000648498535, 'notebook'),\n",
       " (0.6380876302719116, '156b'),\n",
       " (0.6353214383125305, '176'),\n",
       " (0.6312924027442932, '178'),\n",
       " (0.6299413442611694, 's5919'),\n",
       " (0.6265237331390381, 'briefcase'),\n",
       " (0.613882839679718, 'zenbook'),\n",
       " (0.6091018915176392, '114'),\n",
       " (0.6087368130683899, '172')]"
      ]
     },
     "execution_count": 56,
     "metadata": {},
     "output_type": "execute_result"
    }
   ],
   "source": [
    "model.get_nearest_neighbors('laptop')"
   ]
  },
  {
   "cell_type": "code",
   "execution_count": 57,
   "metadata": {},
   "outputs": [
    {
     "data": {
      "text/plain": [
       "[(0.9040520191192627, 'freezers'),\n",
       " (0.7378726601600647, 'refrigerator'),\n",
       " (0.7015482783317566, 'mug'),\n",
       " (0.6819553375244141, 'cu'),\n",
       " (0.6666325330734253, 'ft'),\n",
       " (0.6508707404136658, 'refrigerators'),\n",
       " (0.6403297185897827, 'side'),\n",
       " (0.6242110133171082, 'ultrafinish'),\n",
       " (0.6213588118553162, 'cleansteel'),\n",
       " (0.6187864542007446, 'customstyle')]"
      ]
     },
     "execution_count": 57,
     "metadata": {},
     "output_type": "execute_result"
    }
   ],
   "source": [
    "model.get_nearest_neighbors('freezer')"
   ]
  },
  {
   "cell_type": "markdown",
   "metadata": {},
   "source": [
    "#### Brands"
   ]
  },
  {
   "cell_type": "code",
   "execution_count": 58,
   "metadata": {},
   "outputs": [
    {
     "data": {
      "text/plain": [
       "[(0.9618361592292786, 'ds'),\n",
       " (0.9464081525802612, 'wii'),\n",
       " (0.8481259346008301, 'nintendogs'),\n",
       " (0.7772269248962402, 'gamecube'),\n",
       " (0.7748440504074097, '3ds'),\n",
       " (0.7330852150917053, 'psp'),\n",
       " (0.7299896478652954, 'playstation'),\n",
       " (0.7098451852798462, 'advance'),\n",
       " (0.7001379728317261, 'xbox'),\n",
       " (0.6970630884170532, '360')]"
      ]
     },
     "execution_count": 58,
     "metadata": {},
     "output_type": "execute_result"
    }
   ],
   "source": [
    "model.get_nearest_neighbors('nintendo')"
   ]
  },
  {
   "cell_type": "code",
   "execution_count": 59,
   "metadata": {},
   "outputs": [
    {
     "data": {
      "text/plain": [
       "[(0.7917198538780212, 'maytag'),\n",
       " (0.7578569054603577, 'biscuit'),\n",
       " (0.7387299537658691, 'frigidaire'),\n",
       " (0.724648118019104, 'ge'),\n",
       " (0.718706488609314, 'inglis'),\n",
       " (0.6954635381698608, 'bisque'),\n",
       " (0.6748238801956177, 'cleansteel'),\n",
       " (0.6696757078170776, 'hotpoint'),\n",
       " (0.6602770686149597, 'satina'),\n",
       " (0.6477392315864563, 'cabrio')]"
      ]
     },
     "execution_count": 59,
     "metadata": {},
     "output_type": "execute_result"
    }
   ],
   "source": [
    "model.get_nearest_neighbors('whirlpool')"
   ]
  },
  {
   "cell_type": "code",
   "execution_count": 60,
   "metadata": {},
   "outputs": [
    {
     "data": {
      "text/plain": [
       "[(0.8524447083473206, 'easyshare'),\n",
       " (0.6994882225990295, 'c813'),\n",
       " (0.6927104592323303, 'm763'),\n",
       " (0.682150661945343, 'm863'),\n",
       " (0.6723581552505493, 'm893'),\n",
       " (0.6625857949256897, 'playsport'),\n",
       " (0.6569780707359314, 'm530'),\n",
       " (0.6510109305381775, 'm341'),\n",
       " (0.6497992277145386, 'playtouch'),\n",
       " (0.6416168212890625, 'm1063')]"
      ]
     },
     "execution_count": 60,
     "metadata": {},
     "output_type": "execute_result"
    }
   ],
   "source": [
    "model.get_nearest_neighbors('kodak')"
   ]
  },
  {
   "cell_type": "markdown",
   "metadata": {},
   "source": [
    "### Models"
   ]
  },
  {
   "cell_type": "code",
   "execution_count": 61,
   "metadata": {},
   "outputs": [
    {
     "data": {
      "text/plain": [
       "[(0.7692601680755615, 'playstation'),\n",
       " (0.7291615605354309, 'xbox'),\n",
       " (0.7283380031585693, 'ps3'),\n",
       " (0.7122669816017151, 'gamecube'),\n",
       " (0.6965801119804382, '360'),\n",
       " (0.6947784423828125, 'psp'),\n",
       " (0.6672265529632568, 'guide'),\n",
       " (0.6565883755683899, 'gba'),\n",
       " (0.6339210271835327, '2k7'),\n",
       " (0.6332845091819763, '2k5')]"
      ]
     },
     "execution_count": 61,
     "metadata": {},
     "output_type": "execute_result"
    }
   ],
   "source": [
    "model.get_nearest_neighbors('ps2')"
   ]
  },
  {
   "cell_type": "code",
   "execution_count": 62,
   "metadata": {},
   "outputs": [
    {
     "data": {
      "text/plain": [
       "[(0.8181076049804688, 'motorola'),\n",
       " (0.7460159063339233, 'krzr'),\n",
       " (0.7260109782218933, 'droid'),\n",
       " (0.7123373746871948, 't720'),\n",
       " (0.7102821469306946, 'a855'),\n",
       " (0.6753193736076355, 'a957'),\n",
       " (0.6720890998840332, 'r225'),\n",
       " (0.668860912322998, 'cellsuit'),\n",
       " (0.6679417490959167, 'photon'),\n",
       " (0.6677144765853882, 'atrix')]"
      ]
     },
     "execution_count": 62,
     "metadata": {},
     "output_type": "execute_result"
    }
   ],
   "source": [
    "model.get_nearest_neighbors('razr')"
   ]
  },
  {
   "cell_type": "code",
   "execution_count": 63,
   "metadata": {},
   "outputs": [
    {
     "data": {
      "text/plain": [
       "[(0.878308117389679, 'telecaster'),\n",
       " (0.8076531887054443, 'starcaster'),\n",
       " (0.7800866961479187, 'fretboard'),\n",
       " (0.7725774645805359, 'fender'),\n",
       " (0.7699156403541565, 'strat'),\n",
       " (0.7431489825248718, 'squier'),\n",
       " (0.7395989298820496, 'hss'),\n",
       " (0.6987872123718262, 'worn'),\n",
       " (0.6933623552322388, 'thinline'),\n",
       " (0.6825616955757141, 'rosewood')]"
      ]
     },
     "execution_count": 63,
     "metadata": {},
     "output_type": "execute_result"
    }
   ],
   "source": [
    "model.get_nearest_neighbors('stratocaster')"
   ]
  },
  {
   "cell_type": "markdown",
   "metadata": {},
   "source": [
    "#### Other"
   ]
  },
  {
   "cell_type": "code",
   "execution_count": 64,
   "metadata": {},
   "outputs": [
    {
     "data": {
      "text/plain": [
       "[(0.9519236087799072, 'holidays'),\n",
       " (0.7104306817054749, 'vibes'),\n",
       " (0.6974205374717712, 'nobr'),\n",
       " (0.6747931241989136, 'stocking'),\n",
       " (0.6542304158210754, 'grab'),\n",
       " (0.6475882530212402, 'perfectly'),\n",
       " (0.6248204112052917, 'dreidel'),\n",
       " (0.6050228476524353, 'kwanzaa'),\n",
       " (0.6000368595123291, 'slaphappy'),\n",
       " (0.5962368845939636, 'gift')]"
      ]
     },
     "execution_count": 64,
     "metadata": {},
     "output_type": "execute_result"
    }
   ],
   "source": [
    "model.get_nearest_neighbors('holiday')"
   ]
  },
  {
   "cell_type": "code",
   "execution_count": 65,
   "metadata": {},
   "outputs": [
    {
     "data": {
      "text/plain": [
       "[(0.7891889214515686, '600hz'),\n",
       " (0.706960141658783, '480hz'),\n",
       " (0.6839281320571899, 'hdtv'),\n",
       " (0.682191014289856, 'purevision'),\n",
       " (0.6792814135551453, '42'),\n",
       " (0.6442890167236328, 'viera'),\n",
       " (0.626269519329071, '43'),\n",
       " (0.6233737468719482, 'ambilight'),\n",
       " (0.6149773597717285, 'edtv'),\n",
       " (0.6111401915550232, 'ultravision')]"
      ]
     },
     "execution_count": 65,
     "metadata": {},
     "output_type": "execute_result"
    }
   ],
   "source": [
    "model.get_nearest_neighbors('plasma')"
   ]
  },
  {
   "cell_type": "code",
   "execution_count": 66,
   "metadata": {},
   "outputs": [
    {
     "data": {
      "text/plain": [
       "[(0.7888681888580322, 'leatherskin'),\n",
       " (0.6654601097106934, 'recliner'),\n",
       " (0.6512647271156311, 'armless'),\n",
       " (0.6354237794876099, 'sofa'),\n",
       " (0.6349744200706482, 'berkline'),\n",
       " (0.623550295829773, 'hipcase'),\n",
       " (0.6216261386871338, 'seating'),\n",
       " (0.6182665228843689, 'maccase'),\n",
       " (0.616023600101471, 'curved'),\n",
       " (0.5956719517707825, 'theaterseatstore')]"
      ]
     },
     "execution_count": 66,
     "metadata": {},
     "output_type": "execute_result"
    }
   ],
   "source": [
    "model.get_nearest_neighbors('leather')"
   ]
  },
  {
   "cell_type": "markdown",
   "metadata": {},
   "source": [
    "### Ignoring rare words: minCount = 20"
   ]
  },
  {
   "cell_type": "code",
   "execution_count": 67,
   "metadata": {},
   "outputs": [
    {
     "name": "stderr",
     "output_type": "stream",
     "text": [
      "Read 1M words\n",
      "Number of words:  3861\n",
      "Number of labels: 0\n",
      "Progress: 100.0% words/sec/thread:   34771 lr:  0.000000 avg.loss:  1.217928 ETA:   0h 0m 0s\n"
     ]
    }
   ],
   "source": [
    "model = fasttext.train_unsupervised(model = 'skipgram',\n",
    "                                    input = '/workspace/datasets/fasttext/normalized_titles.txt',\n",
    "                                    epoch = 25,\n",
    "                                    minCount = 20)"
   ]
  },
  {
   "cell_type": "markdown",
   "metadata": {},
   "source": [
    "#### Product types"
   ]
  },
  {
   "cell_type": "code",
   "execution_count": 68,
   "metadata": {},
   "outputs": [
    {
     "data": {
      "text/plain": [
       "[(0.8929057121276855, 'earbud'),\n",
       " (0.8674094676971436, 'ear'),\n",
       " (0.8249027132987976, 'headphone'),\n",
       " (0.6970930099487305, 'lowrider'),\n",
       " (0.6865960955619812, 'earphones'),\n",
       " (0.6601977944374084, 'bud'),\n",
       " (0.6599555611610413, 'hesh'),\n",
       " (0.6537138223648071, 'canceling'),\n",
       " (0.6507418751716614, 'over'),\n",
       " (0.6371705532073975, '2xl')]"
      ]
     },
     "execution_count": 68,
     "metadata": {},
     "output_type": "execute_result"
    }
   ],
   "source": [
    "model.get_nearest_neighbors('headphones')"
   ]
  },
  {
   "cell_type": "code",
   "execution_count": 69,
   "metadata": {},
   "outputs": [
    {
     "data": {
      "text/plain": [
       "[(0.6927817463874817, 'notebook'),\n",
       " (0.6504510045051575, 'netbook'),\n",
       " (0.5768425464630127, 'biscotti'),\n",
       " (0.5515731573104858, 'mouse'),\n",
       " (0.5512543320655823, 'ultrabook'),\n",
       " (0.549037754535675, 'briefcase'),\n",
       " (0.5376833081245422, 'slip'),\n",
       " (0.5308789610862732, 'laptops'),\n",
       " (0.5232369899749756, 'macbook'),\n",
       " (0.5170558094978333, '6gb')]"
      ]
     },
     "execution_count": 69,
     "metadata": {},
     "output_type": "execute_result"
    }
   ],
   "source": [
    "model.get_nearest_neighbors('laptop')"
   ]
  },
  {
   "cell_type": "code",
   "execution_count": 70,
   "metadata": {},
   "outputs": [
    {
     "data": {
      "text/plain": [
       "[(0.7168809771537781, 'refrigerator'),\n",
       " (0.6610156893730164, 'mug'),\n",
       " (0.6522968411445618, 'cu'),\n",
       " (0.635196328163147, 'ft'),\n",
       " (0.6291569471359253, 'satina'),\n",
       " (0.6207199692726135, 'frost'),\n",
       " (0.613924503326416, 'side'),\n",
       " (0.5895519256591797, 'bottom'),\n",
       " (0.5890802145004272, 'refrigerators'),\n",
       " (0.5735819935798645, 'cleansteel')]"
      ]
     },
     "execution_count": 70,
     "metadata": {},
     "output_type": "execute_result"
    }
   ],
   "source": [
    "model.get_nearest_neighbors('freezer')"
   ]
  },
  {
   "cell_type": "markdown",
   "metadata": {},
   "source": [
    "#### Brands"
   ]
  },
  {
   "cell_type": "code",
   "execution_count": 71,
   "metadata": {},
   "outputs": [
    {
     "data": {
      "text/plain": [
       "[(0.9543527364730835, 'ds'),\n",
       " (0.9344239830970764, 'wii'),\n",
       " (0.7957473993301392, 'gamecube'),\n",
       " (0.7716276049613953, '3ds'),\n",
       " (0.734774112701416, 'psp'),\n",
       " (0.7294143438339233, 'advance'),\n",
       " (0.7243247032165527, 'boy'),\n",
       " (0.6953176259994507, 'playstation'),\n",
       " (0.6926416158676147, 'xbox'),\n",
       " (0.6734306812286377, '360')]"
      ]
     },
     "execution_count": 71,
     "metadata": {},
     "output_type": "execute_result"
    }
   ],
   "source": [
    "model.get_nearest_neighbors('nintendo')"
   ]
  },
  {
   "cell_type": "code",
   "execution_count": 72,
   "metadata": {},
   "outputs": [
    {
     "data": {
      "text/plain": [
       "[(0.7950811982154846, 'maytag'),\n",
       " (0.7542214393615723, 'biscuit'),\n",
       " (0.7433401942253113, 'frigidaire'),\n",
       " (0.7261288166046143, 'ge'),\n",
       " (0.6821197271347046, 'inglis'),\n",
       " (0.6818539500236511, 'bisque'),\n",
       " (0.6801739931106567, 'cleansteel'),\n",
       " (0.6754910945892334, 'hotpoint'),\n",
       " (0.6274698972702026, 'bosch'),\n",
       " (0.6264026761054993, 'monochromatic')]"
      ]
     },
     "execution_count": 72,
     "metadata": {},
     "output_type": "execute_result"
    }
   ],
   "source": [
    "model.get_nearest_neighbors('whirlpool')"
   ]
  },
  {
   "cell_type": "code",
   "execution_count": 73,
   "metadata": {},
   "outputs": [
    {
     "data": {
      "text/plain": [
       "[(0.8262077569961548, 'easyshare'),\n",
       " (0.6823721528053284, 'm863'),\n",
       " (0.6517613530158997, 'm893'),\n",
       " (0.6382378339767456, 'm340'),\n",
       " (0.6323002576828003, 'playsport'),\n",
       " (0.6273201704025269, 'm1063'),\n",
       " (0.6023184061050415, 'playtouch'),\n",
       " (0.5708916187286377, 'canon'),\n",
       " (0.5704430937767029, 'fuji'),\n",
       " (0.5568867325782776, 'photosmart')]"
      ]
     },
     "execution_count": 73,
     "metadata": {},
     "output_type": "execute_result"
    }
   ],
   "source": [
    "model.get_nearest_neighbors('kodak')"
   ]
  },
  {
   "cell_type": "markdown",
   "metadata": {},
   "source": [
    "### Models"
   ]
  },
  {
   "cell_type": "code",
   "execution_count": 74,
   "metadata": {},
   "outputs": [
    {
     "data": {
      "text/plain": [
       "[(0.7529356479644775, 'ps3'),\n",
       " (0.7486602663993835, 'playstation'),\n",
       " (0.747470498085022, 'gamecube'),\n",
       " (0.7361575961112976, 'xbox'),\n",
       " (0.7201453447341919, 'guide'),\n",
       " (0.7155444622039795, 'gba'),\n",
       " (0.6946600675582886, '360'),\n",
       " (0.6943628191947937, 'psp'),\n",
       " (0.6420919299125671, 'wii'),\n",
       " (0.6418797373771667, 'ds')]"
      ]
     },
     "execution_count": 74,
     "metadata": {},
     "output_type": "execute_result"
    }
   ],
   "source": [
    "model.get_nearest_neighbors('ps2')"
   ]
  },
  {
   "cell_type": "code",
   "execution_count": 75,
   "metadata": {},
   "outputs": [
    {
     "data": {
      "text/plain": [
       "[(0.7917510867118835, 'motorola'),\n",
       " (0.7535035610198975, 'droid'),\n",
       " (0.6494126915931702, 'atrix'),\n",
       " (0.6455318331718445, 'nokia'),\n",
       " (0.6369015574455261, 'phones'),\n",
       " (0.6084145903587341, 'sph'),\n",
       " (0.595324695110321, 'mobile'),\n",
       " (0.5839547514915466, 'treo'),\n",
       " (0.582118570804596, '8530'),\n",
       " (0.5762964487075806, '8520')]"
      ]
     },
     "execution_count": 75,
     "metadata": {},
     "output_type": "execute_result"
    }
   ],
   "source": [
    "model.get_nearest_neighbors('razr')"
   ]
  },
  {
   "cell_type": "code",
   "execution_count": 76,
   "metadata": {},
   "outputs": [
    {
     "data": {
      "text/plain": [
       "[(0.8569124937057495, 'telecaster'),\n",
       " (0.7751351594924927, 'squier'),\n",
       " (0.7537893056869507, 'strat'),\n",
       " (0.7519737482070923, 'fender'),\n",
       " (0.7368367910385132, 'fretboard'),\n",
       " (0.6284483671188354, 'rosewood'),\n",
       " (0.6078391075134277, 'sunburst'),\n",
       " (0.5804291367530823, 'jazz'),\n",
       " (0.5760371088981628, 'tele'),\n",
       " (0.5589219331741333, 'tobacco')]"
      ]
     },
     "execution_count": 76,
     "metadata": {},
     "output_type": "execute_result"
    }
   ],
   "source": [
    "model.get_nearest_neighbors('stratocaster')"
   ]
  },
  {
   "cell_type": "markdown",
   "metadata": {},
   "source": [
    "#### Other"
   ]
  },
  {
   "cell_type": "code",
   "execution_count": 77,
   "metadata": {},
   "outputs": [
    {
     "data": {
      "text/plain": [
       "[(0.6082809567451477, 'kwanzaa'),\n",
       " (0.6040680408477783, 'hanukkah'),\n",
       " (0.5694826245307922, 'congratulations'),\n",
       " (0.5640594363212585, 'gift'),\n",
       " (0.5589464902877808, 'buy'),\n",
       " (0.5560659170150757, 'graduation'),\n",
       " (0.5488727688789368, 'happy'),\n",
       " (0.5465364456176758, 'connection'),\n",
       " (0.5430492758750916, 'merry'),\n",
       " (0.5429035425186157, 'navidad')]"
      ]
     },
     "execution_count": 77,
     "metadata": {},
     "output_type": "execute_result"
    }
   ],
   "source": [
    "model.get_nearest_neighbors('holiday')"
   ]
  },
  {
   "cell_type": "code",
   "execution_count": 78,
   "metadata": {},
   "outputs": [
    {
     "data": {
      "text/plain": [
       "[(0.7443578243255615, '600hz'),\n",
       " (0.6497722864151001, 'hdtv'),\n",
       " (0.6033835411071777, 'viera'),\n",
       " (0.5932702422142029, '46'),\n",
       " (0.5781123638153076, 'dlp'),\n",
       " (0.5730062127113342, '58'),\n",
       " (0.566292941570282, '42'),\n",
       " (0.5553087592124939, '63'),\n",
       " (0.5534052848815918, '720p'),\n",
       " (0.5509803295135498, 'hdtvs')]"
      ]
     },
     "execution_count": 78,
     "metadata": {},
     "output_type": "execute_result"
    }
   ],
   "source": [
    "model.get_nearest_neighbors('plasma')"
   ]
  },
  {
   "cell_type": "code",
   "execution_count": 79,
   "metadata": {},
   "outputs": [
    {
     "data": {
      "text/plain": [
       "[(0.6836671233177185, 'recliner'),\n",
       " (0.6658450365066528, 'armless'),\n",
       " (0.632309079170227, 'berkline'),\n",
       " (0.6187480092048645, 'curved'),\n",
       " (0.6164443492889404, 'seating'),\n",
       " (0.592078685760498, 'sofa'),\n",
       " (0.585899829864502, 'theaterseatstore'),\n",
       " (0.5619029402732849, 'bodhi'),\n",
       " (0.5513429641723633, 'magnolia'),\n",
       " (0.5465265512466431, 'headliner')]"
      ]
     },
     "execution_count": 79,
     "metadata": {},
     "output_type": "execute_result"
    }
   ],
   "source": [
    "model.get_nearest_neighbors('leather')"
   ]
  },
  {
   "cell_type": "code",
   "execution_count": 80,
   "metadata": {},
   "outputs": [
    {
     "data": {
      "text/plain": [
       "'recliner'"
      ]
     },
     "execution_count": 80,
     "metadata": {},
     "output_type": "execute_result"
    }
   ],
   "source": [
    "model.get_nearest_neighbors('leather')[0][1]"
   ]
  },
  {
   "cell_type": "code",
   "execution_count": 84,
   "metadata": {},
   "outputs": [],
   "source": [
    "model.save_model('title_model.bin')"
   ]
  },
  {
   "cell_type": "markdown",
   "metadata": {},
   "source": [
    "# Level 3: Integrating Synonyms with Search\n",
    "`cat /workspace/datasets/fasttext/normalized_titles.txt | tr \" \" \"\\n\" | grep \"....\" | sort | uniq -c | sort -nr | head -1000 | grep -oE '[^ ]+$' > /workspace/datasets/fasttext/top_words.txt`\n",
    "\n",
    "The above does the following:\n",
    "\n",
    "* Replace each space with a newline, so we get one word per line.\n",
    "* Only keep words containing at least 4 characters.\n",
    "* Sort the words in alphabetical order.\n",
    "* Deduplicate the words and keep the counts, yielding a 2-columns file where each line is a count followed by the word.\n",
    "* Sort the count-word pairs in descending order of count.\n",
    "* Keep only the top 1,000 entries, i.e., the 1,000 most frequently occurring words.\n",
    "* Remove the counts so we only output the words.\n",
    "* Output the result of this process to /workspace/datasets/fasttext/top_words.txt."
   ]
  },
  {
   "cell_type": "code",
   "execution_count": 85,
   "metadata": {},
   "outputs": [
    {
     "name": "stderr",
     "output_type": "stream",
     "text": [
      "Warning : `load_model` does not return WordVectorModel or SupervisedModel any more, but a `FastText` object which is very similar.\n"
     ]
    },
    {
     "data": {
      "text/html": [
       "<div>\n",
       "<style scoped>\n",
       "    .dataframe tbody tr th:only-of-type {\n",
       "        vertical-align: middle;\n",
       "    }\n",
       "\n",
       "    .dataframe tbody tr th {\n",
       "        vertical-align: top;\n",
       "    }\n",
       "\n",
       "    .dataframe thead th {\n",
       "        text-align: right;\n",
       "    }\n",
       "</style>\n",
       "<table border=\"1\" class=\"dataframe\">\n",
       "  <thead>\n",
       "    <tr style=\"text-align: right;\">\n",
       "      <th></th>\n",
       "      <th>0</th>\n",
       "    </tr>\n",
       "  </thead>\n",
       "  <tbody>\n",
       "    <tr>\n",
       "      <th>0</th>\n",
       "      <td>black</td>\n",
       "    </tr>\n",
       "    <tr>\n",
       "      <th>1</th>\n",
       "      <td>with</td>\n",
       "    </tr>\n",
       "    <tr>\n",
       "      <th>2</th>\n",
       "      <td>digital</td>\n",
       "    </tr>\n",
       "    <tr>\n",
       "      <th>3</th>\n",
       "      <td>white</td>\n",
       "    </tr>\n",
       "    <tr>\n",
       "      <th>4</th>\n",
       "      <td>case</td>\n",
       "    </tr>\n",
       "  </tbody>\n",
       "</table>\n",
       "</div>"
      ],
      "text/plain": [
       "         0\n",
       "0    black\n",
       "1     with\n",
       "2  digital\n",
       "3    white\n",
       "4     case"
      ]
     },
     "execution_count": 85,
     "metadata": {},
     "output_type": "execute_result"
    }
   ],
   "source": [
    "skipgram_model = fasttext.load_model('title_model.bin')\n",
    "top_words = pd.read_table('/workspace/datasets/fasttext/top_words.txt', header = None)\n",
    "top_words.head()"
   ]
  },
  {
   "cell_type": "code",
   "execution_count": 86,
   "metadata": {},
   "outputs": [
    {
     "data": {
      "text/plain": [
       "0.6813351511955261"
      ]
     },
     "execution_count": 86,
     "metadata": {},
     "output_type": "execute_result"
    }
   ],
   "source": [
    "model.get_nearest_neighbors(top_words[0][0])[0][0]"
   ]
  },
  {
   "cell_type": "code",
   "execution_count": 87,
   "metadata": {},
   "outputs": [],
   "source": [
    "synonyms_df = []\n",
    "for i in range(0, len(top_words)):\n",
    "   # synonyms_df.at[0, i] = top_words[0][i]\n",
    "    nn = skipgram_model.get_nearest_neighbors(top_words[0][i])\n",
    "    synonyms = []\n",
    "\n",
    "    for j in range(0, len(nn)):\n",
    "        similarity = nn[j][0]\n",
    "        if similarity >= 0.75:\n",
    "            synonyms.append(nn[j][1])\n",
    "        else:\n",
    "            pass\n",
    "    \n",
    "    if len(synonyms) > 0:\n",
    "        synonyms.insert(0, top_words[0][i])\n",
    "        synonyms_df.append(synonyms)\n",
    "    else: \n",
    "        pass"
   ]
  },
  {
   "cell_type": "code",
   "execution_count": 88,
   "metadata": {},
   "outputs": [],
   "source": [
    "synonyms_df = pd.DataFrame(synonyms_df)"
   ]
  },
  {
   "cell_type": "code",
   "execution_count": 89,
   "metadata": {},
   "outputs": [
    {
     "ename": "",
     "evalue": "",
     "output_type": "error",
     "traceback": [
      "\u001b[1;31mThe Kernel crashed while executing code in the the current cell or a previous cell. Please review the code in the cell(s) to identify a possible cause of the failure. Click <a href='https://aka.ms/vscodeJupyterKernelCrash'>here</a> for more info. View Jupyter <a href='command:jupyter.viewOutput'>log</a> for further details."
     ]
    }
   ],
   "source": [
    "synonyms_df.to_csv('/workspace/datasets/fasttext/synonyms.csv', sep = ',', header = None)"
   ]
  },
  {
   "cell_type": "markdown",
   "metadata": {},
   "source": [
    "Copy file to Docker container: `docker cp /workspace/datasets/fasttext/synonyms.csv opensearch-node1:/usr/share/opensearch/config/synonyms.csv`"
   ]
  },
  {
   "cell_type": "code",
   "execution_count": null,
   "metadata": {},
   "outputs": [],
   "source": []
  }
 ],
 "metadata": {
  "kernelspec": {
   "display_name": "Python 3.9.7 64-bit ('search_with_ml')",
   "language": "python",
   "name": "python3"
  },
  "language_info": {
   "codemirror_mode": {
    "name": "ipython",
    "version": 3
   },
   "file_extension": ".py",
   "mimetype": "text/x-python",
   "name": "python",
   "nbconvert_exporter": "python",
   "pygments_lexer": "ipython3",
   "version": "3.9.7"
  },
  "orig_nbformat": 4,
  "vscode": {
   "interpreter": {
    "hash": "67e596a8a2bf29352050fb333d24bd7b02bfe9fb96f64551bb2b9fad903a30a1"
   }
  }
 },
 "nbformat": 4,
 "nbformat_minor": 2
}
