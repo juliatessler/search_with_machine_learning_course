{
 "cells": [
  {
   "cell_type": "markdown",
   "metadata": {},
   "source": [
    "# Playground\n",
    "Much like my Notepad, this playground is a place for me to test things."
   ]
  },
  {
   "cell_type": "code",
   "execution_count": 27,
   "metadata": {},
   "outputs": [],
   "source": [
    "import pandas as pd\n",
    "import numpy as np"
   ]
  },
  {
   "cell_type": "code",
   "execution_count": 28,
   "metadata": {},
   "outputs": [],
   "source": [
    "labeled_products = pd.read_table('/workspace/datasets/fasttext/shuffled_labeled_products.txt',\n",
    "    header = None)"
   ]
  },
  {
   "cell_type": "code",
   "execution_count": 29,
   "metadata": {},
   "outputs": [
    {
     "data": {
      "text/html": [
       "<div>\n",
       "<style scoped>\n",
       "    .dataframe tbody tr th:only-of-type {\n",
       "        vertical-align: middle;\n",
       "    }\n",
       "\n",
       "    .dataframe tbody tr th {\n",
       "        vertical-align: top;\n",
       "    }\n",
       "\n",
       "    .dataframe thead th {\n",
       "        text-align: right;\n",
       "    }\n",
       "</style>\n",
       "<table border=\"1\" class=\"dataframe\">\n",
       "  <thead>\n",
       "    <tr style=\"text-align: right;\">\n",
       "      <th></th>\n",
       "      <th>0</th>\n",
       "    </tr>\n",
       "  </thead>\n",
       "  <tbody>\n",
       "    <tr>\n",
       "      <th>0</th>\n",
       "      <td>__label__abcat0102006 Insignia® - Progressive-...</td>\n",
       "    </tr>\n",
       "    <tr>\n",
       "      <th>1</th>\n",
       "      <td>__label__pcmcat247400050000 Sony - VAIO Laptop...</td>\n",
       "    </tr>\n",
       "    <tr>\n",
       "      <th>2</th>\n",
       "      <td>__label__pcmcat180400050006 NIKON D3000 Digita...</td>\n",
       "    </tr>\n",
       "    <tr>\n",
       "      <th>3</th>\n",
       "      <td>__label__pcmcat200900050014 LG - 27\" Widescree...</td>\n",
       "    </tr>\n",
       "    <tr>\n",
       "      <th>4</th>\n",
       "      <td>__label__pcmcat167300050040 Samsung - 1000W 5....</td>\n",
       "    </tr>\n",
       "  </tbody>\n",
       "</table>\n",
       "</div>"
      ],
      "text/plain": [
       "                                                   0\n",
       "0  __label__abcat0102006 Insignia® - Progressive-...\n",
       "1  __label__pcmcat247400050000 Sony - VAIO Laptop...\n",
       "2  __label__pcmcat180400050006 NIKON D3000 Digita...\n",
       "3  __label__pcmcat200900050014 LG - 27\" Widescree...\n",
       "4  __label__pcmcat167300050040 Samsung - 1000W 5...."
      ]
     },
     "execution_count": 29,
     "metadata": {},
     "output_type": "execute_result"
    }
   ],
   "source": [
    "labeled_products.head()"
   ]
  },
  {
   "cell_type": "code",
   "execution_count": 30,
   "metadata": {},
   "outputs": [
    {
     "data": {
      "text/plain": [
       "(115503, 1)"
      ]
     },
     "execution_count": 30,
     "metadata": {},
     "output_type": "execute_result"
    }
   ],
   "source": [
    "labeled_products.shape"
   ]
  },
  {
   "cell_type": "code",
   "execution_count": 31,
   "metadata": {},
   "outputs": [
    {
     "data": {
      "text/plain": [
       "(10000, 1)"
      ]
     },
     "execution_count": 31,
     "metadata": {},
     "output_type": "execute_result"
    }
   ],
   "source": [
    "training_data = labeled_products.loc[0:9999]\n",
    "training_data.shape"
   ]
  },
  {
   "cell_type": "code",
   "execution_count": 32,
   "metadata": {},
   "outputs": [
    {
     "data": {
      "text/html": [
       "<div>\n",
       "<style scoped>\n",
       "    .dataframe tbody tr th:only-of-type {\n",
       "        vertical-align: middle;\n",
       "    }\n",
       "\n",
       "    .dataframe tbody tr th {\n",
       "        vertical-align: top;\n",
       "    }\n",
       "\n",
       "    .dataframe thead th {\n",
       "        text-align: right;\n",
       "    }\n",
       "</style>\n",
       "<table border=\"1\" class=\"dataframe\">\n",
       "  <thead>\n",
       "    <tr style=\"text-align: right;\">\n",
       "      <th></th>\n",
       "      <th>0</th>\n",
       "    </tr>\n",
       "  </thead>\n",
       "  <tbody>\n",
       "    <tr>\n",
       "      <th>0</th>\n",
       "      <td>__label__abcat0102006 Insignia® - Progressive-...</td>\n",
       "    </tr>\n",
       "    <tr>\n",
       "      <th>1</th>\n",
       "      <td>__label__pcmcat247400050000 Sony - VAIO Laptop...</td>\n",
       "    </tr>\n",
       "    <tr>\n",
       "      <th>2</th>\n",
       "      <td>__label__pcmcat180400050006 NIKON D3000 Digita...</td>\n",
       "    </tr>\n",
       "    <tr>\n",
       "      <th>3</th>\n",
       "      <td>__label__pcmcat200900050014 LG - 27\" Widescree...</td>\n",
       "    </tr>\n",
       "    <tr>\n",
       "      <th>4</th>\n",
       "      <td>__label__pcmcat167300050040 Samsung - 1000W 5....</td>\n",
       "    </tr>\n",
       "  </tbody>\n",
       "</table>\n",
       "</div>"
      ],
      "text/plain": [
       "                                                   0\n",
       "0  __label__abcat0102006 Insignia® - Progressive-...\n",
       "1  __label__pcmcat247400050000 Sony - VAIO Laptop...\n",
       "2  __label__pcmcat180400050006 NIKON D3000 Digita...\n",
       "3  __label__pcmcat200900050014 LG - 27\" Widescree...\n",
       "4  __label__pcmcat167300050040 Samsung - 1000W 5...."
      ]
     },
     "execution_count": 32,
     "metadata": {},
     "output_type": "execute_result"
    }
   ],
   "source": [
    "training_data.head()"
   ]
  },
  {
   "cell_type": "code",
   "execution_count": 33,
   "metadata": {},
   "outputs": [],
   "source": [
    "training_data.to_csv('/workspace/datasets/fasttext/training_data.txt', header = None, index = None, mode = 'a')\n"
   ]
  },
  {
   "cell_type": "code",
   "execution_count": 34,
   "metadata": {},
   "outputs": [
    {
     "data": {
      "text/plain": [
       "(10000, 1)"
      ]
     },
     "execution_count": 34,
     "metadata": {},
     "output_type": "execute_result"
    }
   ],
   "source": [
    "test_data = labeled_products.tail(10000)\n",
    "test_data.shape"
   ]
  },
  {
   "cell_type": "code",
   "execution_count": 35,
   "metadata": {},
   "outputs": [],
   "source": [
    "test_data.to_csv('/workspace/datasets/fasttext/test_data.txt', header = None, index = None, mode = 'a')\n"
   ]
  },
  {
   "cell_type": "markdown",
   "metadata": {},
   "source": [
    "## Train model!"
   ]
  },
  {
   "cell_type": "code",
   "execution_count": 36,
   "metadata": {},
   "outputs": [],
   "source": [
    "import fasttext"
   ]
  },
  {
   "cell_type": "code",
   "execution_count": 37,
   "metadata": {},
   "outputs": [
    {
     "name": "stderr",
     "output_type": "stream",
     "text": [
      "Read 4M words\n",
      "Number of words:  38798\n",
      "Number of labels: 1897\n",
      "Progress: 100.0% words/sec/thread:   12092 lr:  0.000000 avg.loss:  2.152814 ETA:   0h 0m 0s\n"
     ]
    }
   ],
   "source": [
    "# Train model\n",
    "product_classifier = fasttext.train_supervised(input = '/workspace/datasets/fasttext/training_data.txt')"
   ]
  },
  {
   "cell_type": "code",
   "execution_count": 38,
   "metadata": {},
   "outputs": [],
   "source": [
    "product_classifier.save_model(\"product_classifier\")"
   ]
  },
  {
   "cell_type": "markdown",
   "metadata": {},
   "source": [
    "### @1"
   ]
  },
  {
   "cell_type": "code",
   "execution_count": 39,
   "metadata": {},
   "outputs": [
    {
     "data": {
      "text/plain": [
       "(480640, 0.7850282956058589, 0.7850282956058589)"
      ]
     },
     "execution_count": 39,
     "metadata": {},
     "output_type": "execute_result"
    }
   ],
   "source": [
    "product_classifier.test('/workspace/datasets/fasttext/test_data.txt')"
   ]
  },
  {
   "cell_type": "markdown",
   "metadata": {},
   "source": [
    "### @5"
   ]
  },
  {
   "cell_type": "code",
   "execution_count": 40,
   "metadata": {},
   "outputs": [
    {
     "data": {
      "text/plain": [
       "(480640, 0.18833305592543276, 0.9416652796271637)"
      ]
     },
     "execution_count": 40,
     "metadata": {},
     "output_type": "execute_result"
    }
   ],
   "source": [
    "product_classifier.test('/workspace/datasets/fasttext/test_data.txt', k = 5)"
   ]
  },
  {
   "cell_type": "markdown",
   "metadata": {},
   "source": [
    "### @10"
   ]
  },
  {
   "cell_type": "code",
   "execution_count": 41,
   "metadata": {},
   "outputs": [
    {
     "data": {
      "text/plain": [
       "(480640, 0.0962970206391478, 0.962970206391478)"
      ]
     },
     "execution_count": 41,
     "metadata": {},
     "output_type": "execute_result"
    }
   ],
   "source": [
    "product_classifier.test('/workspace/datasets/fasttext/test_data.txt', k = 10)"
   ]
  },
  {
   "cell_type": "markdown",
   "metadata": {},
   "source": [
    "## Fine tunning - epoch = 25 and lr = 1.0"
   ]
  },
  {
   "cell_type": "code",
   "execution_count": 42,
   "metadata": {},
   "outputs": [
    {
     "name": "stderr",
     "output_type": "stream",
     "text": [
      "Read 4M words\n",
      "Number of words:  38798\n",
      "Number of labels: 1897\n",
      "Progress:   1.5% words/sec/thread:   11792 lr:  0.984695 avg.loss:  4.290653 ETA:   0h 9m22s"
     ]
    },
    {
     "ename": "RuntimeError",
     "evalue": "Encountered NaN.",
     "output_type": "error",
     "traceback": [
      "\u001b[0;31m---------------------------------------------------------------------------\u001b[0m",
      "\u001b[0;31mRuntimeError\u001b[0m                              Traceback (most recent call last)",
      "\u001b[1;32m/workspace/search_with_machine_learning_course/week2/playground.ipynb Cell 22'\u001b[0m in \u001b[0;36m<cell line: 1>\u001b[0;34m()\u001b[0m\n\u001b[0;32m----> <a href='vscode-notebook-cell://juliatessle-searchwithm-8w9kbxmcu75.ws-us47.gitpod.io/workspace/search_with_machine_learning_course/week2/playground.ipynb#ch0000021vscode-remote?line=0'>1</a>\u001b[0m model \u001b[39m=\u001b[39m fasttext\u001b[39m.\u001b[39;49mtrain_supervised(\u001b[39minput\u001b[39;49m \u001b[39m=\u001b[39;49m \u001b[39m'\u001b[39;49m\u001b[39m/workspace/datasets/fasttext/training_data.txt\u001b[39;49m\u001b[39m'\u001b[39;49m, \n\u001b[1;32m      <a href='vscode-notebook-cell://juliatessle-searchwithm-8w9kbxmcu75.ws-us47.gitpod.io/workspace/search_with_machine_learning_course/week2/playground.ipynb#ch0000021vscode-remote?line=1'>2</a>\u001b[0m                                   lr \u001b[39m=\u001b[39;49m \u001b[39m1\u001b[39;49m, \n\u001b[1;32m      <a href='vscode-notebook-cell://juliatessle-searchwithm-8w9kbxmcu75.ws-us47.gitpod.io/workspace/search_with_machine_learning_course/week2/playground.ipynb#ch0000021vscode-remote?line=2'>3</a>\u001b[0m                                   epoch \u001b[39m=\u001b[39;49m \u001b[39m25\u001b[39;49m)\n",
      "File \u001b[0;32m~/.pyenv/versions/3.9.7/envs/search_with_ml/lib/python3.9/site-packages/fasttext/FastText.py:533\u001b[0m, in \u001b[0;36mtrain_supervised\u001b[0;34m(*kargs, **kwargs)\u001b[0m\n\u001b[1;32m    531\u001b[0m a \u001b[39m=\u001b[39m _build_args(args, manually_set_args)\n\u001b[1;32m    532\u001b[0m ft \u001b[39m=\u001b[39m _FastText(args\u001b[39m=\u001b[39ma)\n\u001b[0;32m--> 533\u001b[0m fasttext\u001b[39m.\u001b[39;49mtrain(ft\u001b[39m.\u001b[39;49mf, a)\n\u001b[1;32m    534\u001b[0m ft\u001b[39m.\u001b[39mset_args(ft\u001b[39m.\u001b[39mf\u001b[39m.\u001b[39mgetArgs())\n\u001b[1;32m    535\u001b[0m \u001b[39mreturn\u001b[39;00m ft\n",
      "\u001b[0;31mRuntimeError\u001b[0m: Encountered NaN."
     ]
    }
   ],
   "source": [
    "model = fasttext.train_supervised(input = '/workspace/datasets/fasttext/training_data.txt', \n",
    "                                  lr = 1, \n",
    "                                  epoch = 25)"
   ]
  },
  {
   "cell_type": "code",
   "execution_count": 107,
   "metadata": {},
   "outputs": [
    {
     "data": {
      "text/plain": [
       "(378757, 0.9202575793978726, 0.9202575793978726)"
      ]
     },
     "execution_count": 107,
     "metadata": {},
     "output_type": "execute_result"
    }
   ],
   "source": [
    "model.test('/workspace/datasets/fasttext/test_data.txt')"
   ]
  },
  {
   "cell_type": "markdown",
   "metadata": {},
   "source": [
    "## Fine tunning - bigrams"
   ]
  },
  {
   "cell_type": "code",
   "execution_count": 108,
   "metadata": {},
   "outputs": [
    {
     "name": "stderr",
     "output_type": "stream",
     "text": [
      "Read 3M words\n",
      "Number of words:  37232\n",
      "Number of labels: 1882\n",
      "Progress: 100.0% words/sec/thread:   10814 lr:  0.000000 avg.loss:  0.193674 ETA:   0h 0m 0s 37.4% words/sec/thread:   10929 lr:  0.626164 avg.loss:  0.417298 ETA:   0h 5m42s 0.476706 avg.loss:  0.325601 ETA:   0h 4m24s\n"
     ]
    }
   ],
   "source": [
    "model = fasttext.train_supervised(input = '/workspace/datasets/fasttext/training_data.txt', \n",
    "                                  lr = 1.0, \n",
    "                                  epoch = 25,\n",
    "                                  wordNgrams = 2)"
   ]
  },
  {
   "cell_type": "code",
   "execution_count": 109,
   "metadata": {},
   "outputs": [
    {
     "data": {
      "text/plain": [
       "(378757, 0.9307603555841872, 0.9307603555841872)"
      ]
     },
     "execution_count": 109,
     "metadata": {},
     "output_type": "execute_result"
    }
   ],
   "source": [
    "model.test('/workspace/datasets/fasttext/test_data.txt')"
   ]
  },
  {
   "cell_type": "markdown",
   "metadata": {},
   "source": [
    "## Using normalized data"
   ]
  },
  {
   "cell_type": "code",
   "execution_count": 110,
   "metadata": {},
   "outputs": [
    {
     "name": "stderr",
     "output_type": "stream",
     "text": [
      "Read 1M words\n",
      "Number of words:  23322\n",
      "Number of labels: 1939\n",
      "Progress: 100.0% words/sec/thread:    8073 lr:  0.000000 avg.loss:  0.801934 ETA:   0h 0m 0s 0.429383 avg.loss:  1.441951 ETA:   0h 2m19sh 1m25s\n"
     ]
    }
   ],
   "source": [
    "model = fasttext.train_supervised(input = '/workspace/datasets/fasttext/normalized_training.txt', \n",
    "                                  lr = 0.8, \n",
    "                                  epoch = 25)"
   ]
  },
  {
   "cell_type": "code",
   "execution_count": 111,
   "metadata": {},
   "outputs": [
    {
     "data": {
      "text/plain": [
       "(240950, 0.9425274953309816, 0.9425274953309816)"
      ]
     },
     "execution_count": 111,
     "metadata": {},
     "output_type": "execute_result"
    }
   ],
   "source": [
    "model.test('/workspace/datasets/fasttext/normalized_test.txt')"
   ]
  },
  {
   "cell_type": "markdown",
   "metadata": {},
   "source": [
    "## Filtering out for at least N = 500 products"
   ]
  },
  {
   "cell_type": "code",
   "execution_count": null,
   "metadata": {},
   "outputs": [
    {
     "data": {
      "text/html": [
       "<div>\n",
       "<style scoped>\n",
       "    .dataframe tbody tr th:only-of-type {\n",
       "        vertical-align: middle;\n",
       "    }\n",
       "\n",
       "    .dataframe tbody tr th {\n",
       "        vertical-align: top;\n",
       "    }\n",
       "\n",
       "    .dataframe thead th {\n",
       "        text-align: right;\n",
       "    }\n",
       "</style>\n",
       "<table border=\"1\" class=\"dataframe\">\n",
       "  <thead>\n",
       "    <tr style=\"text-align: right;\">\n",
       "      <th></th>\n",
       "      <th>0</th>\n",
       "    </tr>\n",
       "  </thead>\n",
       "  <tbody>\n",
       "    <tr>\n",
       "      <th>0</th>\n",
       "      <td>__label__pcmcat180700050008 Bosch - 500 Series...</td>\n",
       "    </tr>\n",
       "    <tr>\n",
       "      <th>1</th>\n",
       "      <td>__label__abcat0701003 Bayonetta - Xbox 360</td>\n",
       "    </tr>\n",
       "    <tr>\n",
       "      <th>2</th>\n",
       "      <td>__label__abcat0205003 Sony - 8\" 3-Way Floor Sp...</td>\n",
       "    </tr>\n",
       "    <tr>\n",
       "      <th>3</th>\n",
       "      <td>__label__pcmcat251500050009 Alfred - Advanced ...</td>\n",
       "    </tr>\n",
       "    <tr>\n",
       "      <th>4</th>\n",
       "      <td>__label__pcmcat226200050016 Tribeca - Detroit ...</td>\n",
       "    </tr>\n",
       "  </tbody>\n",
       "</table>\n",
       "</div>"
      ],
      "text/plain": [
       "                                                   0\n",
       "0  __label__pcmcat180700050008 Bosch - 500 Series...\n",
       "1         __label__abcat0701003 Bayonetta - Xbox 360\n",
       "2  __label__abcat0205003 Sony - 8\" 3-Way Floor Sp...\n",
       "3  __label__pcmcat251500050009 Alfred - Advanced ...\n",
       "4  __label__pcmcat226200050016 Tribeca - Detroit ..."
      ]
     },
     "execution_count": 89,
     "metadata": {},
     "output_type": "execute_result"
    }
   ],
   "source": [
    "labeled_products.head()"
   ]
  },
  {
   "cell_type": "code",
   "execution_count": null,
   "metadata": {},
   "outputs": [],
   "source": [
    "N = 500\n",
    "\n"
   ]
  }
 ],
 "metadata": {
  "kernelspec": {
   "display_name": "Python 3.9.7 64-bit ('search_with_ml')",
   "language": "python",
   "name": "python3"
  },
  "language_info": {
   "codemirror_mode": {
    "name": "ipython",
    "version": 3
   },
   "file_extension": ".py",
   "mimetype": "text/x-python",
   "name": "python",
   "nbconvert_exporter": "python",
   "pygments_lexer": "ipython3",
   "version": "3.9.7"
  },
  "orig_nbformat": 4,
  "vscode": {
   "interpreter": {
    "hash": "67e596a8a2bf29352050fb333d24bd7b02bfe9fb96f64551bb2b9fad903a30a1"
   }
  }
 },
 "nbformat": 4,
 "nbformat_minor": 2
}
